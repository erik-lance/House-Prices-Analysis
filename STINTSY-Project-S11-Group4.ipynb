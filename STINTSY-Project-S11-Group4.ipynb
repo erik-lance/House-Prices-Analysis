{
 "cells": [
  {
   "cell_type": "markdown",
   "metadata": {},
   "source": [
    "# Section 1. Introduction to the problem/task and dataset\n",
    "The dataset contains house prices for King County which is located in the US State of Washington. It includes homes sold between May 2014 and May 2015. It is an IBM dataset that focused on predicting the prices of houses in the USA through analysis.\n",
    "\n",
    "In the realm of real estate and housing, the condition of a property plays a pivotal role in its market value. Understanding and accurately assessing the condition of houses is essential for buyers, sellers, and real estate professionals alike.\n",
    "\n",
    "To address this need, we embark on a project aimed at classifying houses based on their condition. The condition of a house, graded on a scale of 1 to 5, serves as our target variable. This classification task will empower us to predict and differentiate houses based on their state of repair and maintenance."
   ]
  },
  {
   "cell_type": "markdown",
   "metadata": {},
   "source": [
    "# Section 2. Description of the dataset\n"
   ]
  },
  {
   "cell_type": "markdown",
   "metadata": {},
   "source": [
    "<!-- https://rstudio-pubs-static.s3.amazonaws.com/155304_cc51f448116744069664b35e7762999f.html -->\n",
    "<!-- https://www.kaggle.com/datasets/harlfoxem/housesalesprediction -->\n",
    "\n",
    "The dataset of this project encompasses a comprehensive collection of housing records, each providing insights into the conditions and attributes of residential properties. It serves as the foundation for our task of classifying houses based on their condition. This dataset has been meticulously assembled from multiple sales transactions, capturing houses that have changed ownership over time.\n",
    "\n",
    "The data for these sales comes from the official public records of home sales in the King County area, Washington State. The data sets contains 21613 rows. Each represents a home sold from May 2014 through May 2015."
   ]
  },
  {
   "cell_type": "markdown",
   "metadata": {},
   "source": [
    "## Structure"
   ]
  },
  {
   "cell_type": "markdown",
   "metadata": {},
   "source": [
    "The dataset is structured as a single file in the widely-used CSV (Comma-Separated Values) format. Each row in the dataset represents a distinct house sale event, while each column corresponds to an attribute or feature of the property.\n",
    "\n",
    "In total, the dataset comprises:\n",
    "- `21613` instances; and\n",
    "- `21` features."
   ]
  },
  {
   "cell_type": "markdown",
   "metadata": {},
   "source": [
    "## Features"
   ]
  },
  {
   "cell_type": "markdown",
   "metadata": {},
   "source": [
    "### Brief Description of Features"
   ]
  },
  {
   "cell_type": "markdown",
   "metadata": {},
   "source": [
    "Our dataset encompasses a rich array of features, both numerical and categorical, each contributing to our understanding of the condition and characteristics of houses. Below is a list of the features included in the dataset, grouped by relevance."
   ]
  },
  {
   "cell_type": "markdown",
   "metadata": {},
   "source": [
    "**Location**\n",
    "- `lat` and `long` represent the latitude and longitude of the house's location.\n",
    "\n",
    "**Size:**\n",
    "- `sqft_living` is the square footage of the interior living space.\n",
    "- `sqft_lot` is the square footage of the land.\n",
    "- `sqft_living15` is the square footage of interior living space for the nearest 15 neighbors.\n",
    "- `sqft_lot15` is the square footage of the land lots of the nearest 15 neighbors.\n",
    "\n",
    "**Rooms:**\n",
    "- `bedrooms` counts the number of bedrooms in the house.\n",
    "- `bathrooms` counts the number of bathrooms. A value of .5 indicates a room with a toilet but no shower.\n",
    "\n",
    "**Floors:**\n",
    "- `floors` is the number of floors in the house.\n",
    "\n",
    "**Waterfront and View:**\n",
    "- `waterfront` is a binary variable, indicating whether the house overlooks the waterfront (1 for yes, 0 for no).\n",
    "- `view` is an index from 0 to 4, rating the quality of the property's view.\n",
    "\n",
    "**Condition and Grade:**\n",
    "- `condition` is an index from 1 to 5, indicating the condition of the apartment.\n",
    "- `grade` is an index from 1 to 13, where 1-3 represent lower-quality construction, 7 indicates average quality, and 11-13 signify high-quality construction and design.\n",
    "\n",
    "**Square Footage Above and Below Ground:**\n",
    "- `sqft_above` represents the square footage of the interior housing space above ground level.\n",
    "- `sqft_basement` represents the square footage of the interior housing space below ground level.\n",
    "\n",
    "**Year Information:**\n",
    "- `yr_built` is the year the house was initially built.\n",
    "- `yr_renovated` is the year of the last house renovation.\n",
    "\n",
    "**Location:**\n",
    "- `zipcode` indicates the zipcode area where the house is situated."
   ]
  },
  {
   "cell_type": "markdown",
   "metadata": {},
   "source": [
    "These attributes provide quantitative details about the properties. In contrast, categorical data, such as 'waterfront' and 'view,' offer qualitative information about specific aspects of the houses. It's important to clarify the significance of each feature as it guides our analysis and classification process. Even those features not directly utilized in our study may hold relevance for a comprehensive understanding of housing conditions."
   ]
  },
  {
   "cell_type": "markdown",
   "metadata": {},
   "source": [
    "### Full Feature Table"
   ]
  },
  {
   "cell_type": "markdown",
   "metadata": {},
   "source": [
    "| Feature        | Description                                                                             |\n",
    "|----------------|-----------------------------------------------------------------------------------------|\n",
    "| id             | Unique ID for each home sold                                                            |\n",
    "| date           | Date of the home sale                                                                  |\n",
    "| price          | Price of each home sold                                                               |\n",
    "| bedrooms       | Number of bedrooms                                                                    |\n",
    "| bathrooms      | Number of bathrooms, where .5 accounts for a room with a toilet but no shower         |\n",
    "| sqft_living    | Square footage of the apartment's interior living space                               |\n",
    "| sqft_lot       | Square footage of the land space                                                       |\n",
    "| floors         | Number of floors                                                                      |\n",
    "| waterfront     | A dummy variable for whether the apartment was overlooking the waterfront or not     |\n",
    "| view           | An index from 0 to 4 of how good the view of the property was                          |\n",
    "| condition      | An index from 1 to 5 on the condition of the apartment                                 |\n",
    "| grade          | An index from 1 to 13, where 1-3 falls short of building construction and design, 7 has an average level of construction and design, and 11-13 have a high quality level of construction and design |\n",
    "| sqft_above     | The square footage of the interior housing space that is above ground level           |\n",
    "| sqft_basement  | The square footage of the interior housing space that is below ground level           |\n",
    "| yr_built       | The year the house was initially built                                                 |\n",
    "| yr_renovated   | The year of the house’s last renovation                                                |\n",
    "| zipcode        | What zipcode area the house is in                                                     |\n",
    "| lat            | Latitude                                                                              |\n",
    "| long           | Longitude                                                                             |\n",
    "| sqft_living15  | The square footage of interior housing living space for the nearest 15 neighbors     |\n",
    "| sqft_lot15     | The square footage of the land lots of the nearest 15 neighbors                         |\n"
   ]
  },
  {
   "cell_type": "markdown",
   "metadata": {},
   "source": [
    "# Section 3. List of Requirements"
   ]
  },
  {
   "cell_type": "code",
   "execution_count": null,
   "metadata": {},
   "outputs": [],
   "source": [
    "import numpy as np\n",
    "import pandas as pd\n",
    "\n",
    "# Visualization\n",
    "import matplotlib.pyplot as plt\n",
    "import seaborn as sns"
   ]
  },
  {
   "cell_type": "markdown",
   "metadata": {},
   "source": [
    "# Section 4. Data Preprocessing and Cleaning"
   ]
  },
  {
   "cell_type": "markdown",
   "metadata": {},
   "source": [
    "Since we intend to classify houses based on their condition, we want to remove biases that may arise from duplicate data. We will remove duplicate rows from the dataset. In this case, there are duplicate houses due to the fact that some houses were sold more than once during the period of study. We will remove the duplicates and keep the last instance of the house."
   ]
  },
  {
   "cell_type": "markdown",
   "metadata": {},
   "source": [
    "## Data Preprocessing"
   ]
  },
  {
   "cell_type": "markdown",
   "metadata": {},
   "source": [
    "### Reading the Data"
   ]
  },
  {
   "cell_type": "code",
   "execution_count": null,
   "metadata": {},
   "outputs": [],
   "source": [
    "df = pd.read_csv('house_prices.csv')\n",
    "df.head()"
   ]
  },
  {
   "cell_type": "markdown",
   "metadata": {},
   "source": [
    "### Removing Duplicates"
   ]
  },
  {
   "cell_type": "code",
   "execution_count": null,
   "metadata": {},
   "outputs": [],
   "source": [
    "df_old_rows = len(df)\n",
    "\n",
    "# Store rows with duplicate ids in a separate dataframe\n",
    "df_duplicates = df[df.duplicated(['id'], keep=False)]\n",
    "\n",
    "# Store rows from df_duplicates tha are not the most recent sale in a separate dataframe\n",
    "df_duplicates = df_duplicates[df_duplicates.duplicated(['id'], keep='last')]\n",
    "\n",
    "# Remove rows from df that are in df_duplicates\n",
    "df = df.drop(df_duplicates.index)\n",
    "\n",
    "# Print number old and new number of rows\n",
    "print(f'Old Rows: {df_old_rows}\\nNew Rows: {len(df)}\\nRemoved Rows: {len(df_duplicates)}')"
   ]
  },
  {
   "cell_type": "code",
   "execution_count": null,
   "metadata": {},
   "outputs": [],
   "source": [
    "# Confirm there are no more duplicate ids\n",
    "df[df.duplicated(['id'], keep=False)]"
   ]
  },
  {
   "cell_type": "markdown",
   "metadata": {},
   "source": [
    "## Data Cleaning"
   ]
  },
  {
   "cell_type": "markdown",
   "metadata": {},
   "source": [
    "We will now clean the data by checking for missing values or incorrect data types."
   ]
  },
  {
   "cell_type": "code",
   "execution_count": null,
   "metadata": {},
   "outputs": [],
   "source": [
    "# Check for string values in the dataframe\n",
    "df.select_dtypes(include=['object']).columns"
   ]
  },
  {
   "cell_type": "markdown",
   "metadata": {},
   "source": [
    "### Missing Values"
   ]
  },
  {
   "cell_type": "code",
   "execution_count": null,
   "metadata": {},
   "outputs": [],
   "source": [
    "# Check for missing values in the dataset\n",
    "df.isnull().sum().sort_values(ascending=False)"
   ]
  },
  {
   "cell_type": "markdown",
   "metadata": {},
   "source": [
    "### Negative Values"
   ]
  },
  {
   "cell_type": "code",
   "execution_count": null,
   "metadata": {},
   "outputs": [],
   "source": [
    "# Check for negative values (excluding longitude, latitude, date, and id)\n",
    "excluded_cols = ['id', 'long', 'lat', 'date']\n",
    "df[(df.drop(excluded_cols, axis=1) < 0).any(axis=1)]\n"
   ]
  },
  {
   "cell_type": "markdown",
   "metadata": {},
   "source": [
    "# Section 5. Exploratory Data Analysis"
   ]
  },
  {
   "cell_type": "markdown",
   "metadata": {},
   "source": [
    "## Data Summary and Visualization"
   ]
  },
  {
   "cell_type": "code",
   "execution_count": null,
   "metadata": {},
   "outputs": [],
   "source": [
    "# Generate a summary of the dataset\n",
    "# Remove columns with no significant data and format the output\n",
    "remove_cols = ['id', 'date']\n",
    "df_summary = df.drop(remove_cols, axis=1).describe().transpose()\n",
    "df_summary = df_summary[['mean', 'std', 'min', '25%', '50%', '75%', 'max']]\n",
    "df_summary = df_summary.round(2)\n",
    "df_summary = df_summary.rename(columns={'mean': 'Mean', 'std': 'Standard Deviation', 'min': 'Minimum', '25%': '25th Percentile', '50%': '50th Percentile', '75%': '75th Percentile', 'max': 'Maximum'})\n",
    "df_summary"
   ]
  },
  {
   "cell_type": "markdown",
   "metadata": {},
   "source": [
    "### Visualizations"
   ]
  },
  {
   "cell_type": "markdown",
   "metadata": {},
   "source": [
    "#### Condition of Houses"
   ]
  },
  {
   "cell_type": "markdown",
   "metadata": {},
   "source": [
    "Let's start by finding out what are the number of houses in each condition."
   ]
  },
  {
   "cell_type": "code",
   "execution_count": null,
   "metadata": {},
   "outputs": [],
   "source": [
    "# Histogram of the `condition` column with labels\n",
    "plt.hist(df['condition'], bins=5, edgecolor='k')\n",
    "plt.title('Condition')\n",
    "plt.xlabel('Condition')\n",
    "plt.ylabel('Count')\n",
    "plt.show()\n",
    "\n",
    "# Also print the value counts\n",
    "df['condition'].value_counts()"
   ]
  },
  {
   "cell_type": "code",
   "execution_count": null,
   "metadata": {},
   "outputs": [],
   "source": [
    "# Get percentage of the houses based on condition\n",
    "condition_percentages = df['condition'].value_counts(normalize=True)\n",
    "\n",
    "# Format the percentages to 2 decimal places\n",
    "condition_percentages.map(lambda x: '{:.2f}%'.format(x*100))\n"
   ]
  },
  {
   "cell_type": "markdown",
   "metadata": {},
   "source": [
    "On average, most houses would fall under the 3.0 category. This means that most houses are in average condition. Meaning, out of `21436` houses, `13911` houses are in average condition. This means that `64.90%` of the houses are in average condition.\n",
    "\n",
    "As for those with above average houses, houses under 4.0 and 5.0 are considered above average. This means that out of `21436` houses, `7332` houses are above average. This means that `34.20%` of the houses are above average.\n",
    "- There are `5646` houses with a condition of four (4). They comprise `26.33%` of the houses.\n",
    "- There are `1687` houses with a condition of five (5). They comprise `7.87%` of the houses.\n",
    "\n",
    "As for those with below average houses, houses under 1.0 and 2.0 are considered below average. This means that out of `21436` houses, `193` houses are below average. This means that `0.9%` of the houses are below average.\n",
    "- There are `164` houses with a condition of two (2). They comprise `0.77%` of the houses.\n",
    "- There are `29` houses with a condition of one (1). They comprise `0.14%` of the houses."
   ]
  },
  {
   "cell_type": "markdown",
   "metadata": {},
   "source": [
    "#### House Prices"
   ]
  },
  {
   "cell_type": "markdown",
   "metadata": {},
   "source": [
    "We will now look at the numerical distribution of house prices."
   ]
  },
  {
   "cell_type": "code",
   "execution_count": null,
   "metadata": {},
   "outputs": [],
   "source": [
    "# Print the numerical data behind `price`\n",
    "df['price'].describe().apply(lambda x: format(x, 'f'))"
   ]
  },
  {
   "cell_type": "markdown",
   "metadata": {},
   "source": [
    "The average price for a house appears to be `$541,649.9627` with a standard deviation of `$367,314.9294`. The minimum price for a house is `$75,000.0000` and the maximum price for a house is `$7,700,000.0000`."
   ]
  },
  {
   "cell_type": "markdown",
   "metadata": {},
   "source": [
    "#### House Built and Renovated"
   ]
  },
  {
   "cell_type": "markdown",
   "metadata": {},
   "source": [
    "We now know that most houses are in average condition. Let's see how many houses were built and renovated."
   ]
  },
  {
   "cell_type": "code",
   "execution_count": null,
   "metadata": {},
   "outputs": [],
   "source": [
    "# Create a new figure with two subplots\n",
    "fig, (ax1, ax2) = plt.subplots(1, 2, figsize=(12, 4))  # 1 row, 2 columns\n",
    "\n",
    "# Plot the 'Year Built' histogram on the first subplot (ax1)\n",
    "ax1.hist(df['yr_built'], edgecolor='k')\n",
    "ax1.set_title('Year Built')\n",
    "ax1.set_xlabel('Year Built')\n",
    "ax1.set_ylabel('Count')\n",
    "\n",
    "# Plot the 'Year Renovated' histogram on the second subplot (ax2)\n",
    "renovated = df[df['yr_renovated'] > 0]\n",
    "ax2.hist(renovated['yr_renovated'], edgecolor='k')\n",
    "ax2.set_title('Year Renovated')\n",
    "ax2.set_xlabel('Year Renovated')\n",
    "ax2.set_ylabel('Count')\n",
    "\n",
    "# Adjust the layout to prevent overlap\n",
    "plt.tight_layout()\n",
    "\n",
    "# Show the combined plot\n",
    "plt.show()\n",
    "\n",
    "# Print how many houses have been renovated and how many have not\n",
    "print(f'Renovated: {len(renovated)}\\nNot Renovated: {len(df) - len(renovated)}')\n",
    "\n",
    "print('\\n')\n",
    "\n",
    "# Print the year most houses were built and the number of houses built in that year\n",
    "print(f'Most houses were built in {df[\"yr_built\"].mode()[0]}')\n",
    "print(f'Number of houses built in {df[\"yr_built\"].mode()[0]}: {len(df[df[\"yr_built\"] == df[\"yr_built\"].mode()[0]])}')\n",
    "\n",
    "# Print the year most houses were renovated and the number of houses renovated in that year (don't include houses that haven't been renovated)\n",
    "print(f'Most houses were renovated in {renovated[\"yr_renovated\"].mode()[0]}')\n",
    "print(f'Number of houses renovated in {renovated[\"yr_renovated\"].mode()[0]}: {len(renovated[renovated[\"yr_renovated\"] == renovated[\"yr_renovated\"].mode()[0]])}')\n"
   ]
  },
  {
   "cell_type": "markdown",
   "metadata": {},
   "source": [
    "Given the data, it seems that the renovated houses are not that many. Meaning that most houses are in their original state. Most houses appear to be built and renovated in 2014. This means that most houses are new and have not been renovated yet. However, we must consider that the data was collected from May 2014 to May 2015. This may have underlying effects on the data due to the fact that the data was collected in a span of one year and that 2014 is the most recent year in the data."
   ]
  },
  {
   "cell_type": "markdown",
   "metadata": {},
   "source": [
    "#### House material grade"
   ]
  },
  {
   "cell_type": "markdown",
   "metadata": {},
   "source": [
    "The material grade of a house is an important factor in determining the condition and price of a house. Let's see how many houses are in each material grade.\n",
    "\n",
    "`grade` - \n",
    "*An index from 1 to 13, where 1-3 falls short of building construction and design, 7 has an average level of construction and design, and 11-13 have a high quality level of construction and design*"
   ]
  },
  {
   "cell_type": "code",
   "execution_count": null,
   "metadata": {},
   "outputs": [],
   "source": [
    "# Plot the grade distribution\n",
    "plt.hist(df['grade'], bins=13, edgecolor='k')\n",
    "plt.title('Grade')\n",
    "plt.xlabel('Grade')\n",
    "plt.ylabel('Count')\n",
    "plt.show()\n",
    "\n",
    "# Print the value counts for `grade`\n",
    "df['grade'].value_counts()\n"
   ]
  },
  {
   "cell_type": "markdown",
   "metadata": {},
   "source": [
    "Most houses appear to be in grade 7. This means that most houses have an average level of construction and design. This means that most houses are not that well-built and designed. This may be a factor in determining the condition of a house.\n",
    "\n",
    "- Only four (4) houses are in grade 1-3 meaning that only four (4) houses are poorly built and designed and in poor condition.\n",
    "- `498` houses are in grade 11-13 meaning that `498` houses are well-built and designed and in good condition.\n",
    "- `16,554` houses are in grade 4-10 meaning that `16,554` houses are averagely built and designed and in average condition.\n",
    "  - `2047` houses are in grade 4-6 meaning that `2047` houses are below average condition.\n",
    "  - `8896` houses are in grade 7 meaning that `8896` houses are average condition.\n",
    "  - `6611` houses are in grade 8-10 meaning that `6611` houses are above average condition.\n",
    "\n",
    "The construction of most houses appear to be on the higher spectrum of material grade. It is more likely that most houses are in average to above average condition."
   ]
  },
  {
   "cell_type": "markdown",
   "metadata": {},
   "source": [
    "#### Rooms"
   ]
  },
  {
   "cell_type": "markdown",
   "metadata": {},
   "source": [
    "Now, let's have a quick look at the number of bedrooms and bathrooms in houses."
   ]
  },
  {
   "cell_type": "code",
   "execution_count": null,
   "metadata": {},
   "outputs": [],
   "source": [
    "# Plot bedrooms and bathrooms on separate plots as a histogram\n",
    "fig, (ax1, ax2) = plt.subplots(1, 2, figsize=(12, 4))  # 1 row, 2 columns\n",
    "\n",
    "ax1.hist(df['bedrooms'], edgecolor='k')\n",
    "ax1.set_title('Bedrooms')\n",
    "ax1.set_xlabel('Bedrooms')\n",
    "ax1.set_ylabel('Count')\n",
    "\n",
    "ax2.hist(df['bathrooms'], edgecolor='k')\n",
    "ax2.set_title('Bathrooms')\n",
    "ax2.set_xlabel('Bathrooms')\n",
    "ax2.set_ylabel('Count')\n",
    "\n",
    "plt.tight_layout()\n",
    "plt.show()\n",
    "\n",
    "# Describe bedrooms and bathrooms\n",
    "df[['bedrooms', 'bathrooms']].describe()\n",
    "\n"
   ]
  },
  {
   "cell_type": "markdown",
   "metadata": {},
   "source": [
    "Upon observation, it is common for houses to have `three (3)` bedrooms and `two (2)` bathrooms. This may infer that most houses are built for families. Containing possibly at least three persons."
   ]
  },
  {
   "cell_type": "markdown",
   "metadata": {},
   "source": [
    "#### Square Feet"
   ]
  },
  {
   "cell_type": "markdown",
   "metadata": {},
   "source": [
    "### Findings"
   ]
  },
  {
   "cell_type": "markdown",
   "metadata": {},
   "source": [
    "## Class Distribution Analysis"
   ]
  },
  {
   "cell_type": "markdown",
   "metadata": {},
   "source": [
    "## Correlation Analysis"
   ]
  },
  {
   "cell_type": "markdown",
   "metadata": {},
   "source": [
    "## Geospatial Analysis"
   ]
  },
  {
   "cell_type": "markdown",
   "metadata": {},
   "source": [
    "## Cross-Feature Relationships"
   ]
  },
  {
   "cell_type": "markdown",
   "metadata": {},
   "source": [
    "## Outlier Detection"
   ]
  },
  {
   "cell_type": "markdown",
   "metadata": {},
   "source": [
    "# Section 6. Model Training"
   ]
  },
  {
   "cell_type": "markdown",
   "metadata": {},
   "source": [
    "# Section 7. Hyperparameter Tuning"
   ]
  },
  {
   "cell_type": "markdown",
   "metadata": {},
   "source": [
    "# Section 8. Model Selection"
   ]
  },
  {
   "cell_type": "markdown",
   "metadata": {},
   "source": [
    "# Section 9. Insights and Conclusions"
   ]
  },
  {
   "cell_type": "markdown",
   "metadata": {},
   "source": [
    "# Section 10. References"
   ]
  }
 ],
 "metadata": {
  "kernelspec": {
   "display_name": "Python 3",
   "language": "python",
   "name": "python3"
  },
  "language_info": {
   "codemirror_mode": {
    "name": "ipython",
    "version": 3
   },
   "file_extension": ".py",
   "mimetype": "text/x-python",
   "name": "python",
   "nbconvert_exporter": "python",
   "pygments_lexer": "ipython3",
   "version": "3.9.13"
  }
 },
 "nbformat": 4,
 "nbformat_minor": 2
}
