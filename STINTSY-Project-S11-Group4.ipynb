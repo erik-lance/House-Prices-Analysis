{
 "cells": [
  {
   "cell_type": "markdown",
   "metadata": {},
   "source": [
    "# Section 1. Introduction to the problem/task and dataset\n",
    "The dataset contains house prices for King County which is located in the US State of Washington. It includes homes sold between May 2014 and May 2015. It is an IBM dataset that focused on predicting the prices of houses in the USA through analysis.\n",
    "\n",
    "In the realm of real estate and housing, the condition of a property plays a pivotal role in its market value. Understanding and accurately assessing the condition of houses is essential for buyers, sellers, and real estate professionals alike.\n",
    "\n",
    "To address this need, we embark on a project aimed at classifying houses based on their condition. The condition of a house, graded on a scale of 1 to 5, serves as our target variable. This classification task will empower us to predict and differentiate houses based on their state of repair and maintenance."
   ]
  },
  {
   "cell_type": "markdown",
   "metadata": {},
   "source": [
    "# Section 2. Description of the dataset\n"
   ]
  },
  {
   "cell_type": "markdown",
   "metadata": {},
   "source": [
    "<!-- https://rstudio-pubs-static.s3.amazonaws.com/155304_cc51f448116744069664b35e7762999f.html -->\n",
    "<!-- https://www.kaggle.com/datasets/harlfoxem/housesalesprediction -->\n",
    "\n",
    "The dataset of this project encompasses a comprehensive collection of housing records, each providing insights into the conditions and attributes of residential properties. It serves as the foundation for our task of classifying houses based on their condition. This dataset has been meticulously assembled from multiple sales transactions, capturing houses that have changed ownership over time.\n",
    "\n",
    "The data for these sales comes from the official public records of home sales in the King County area, Washington State. The data sets contains 21613 rows. Each represents a home sold from May 2014 through May 2015."
   ]
  },
  {
   "cell_type": "markdown",
   "metadata": {},
   "source": [
    "## Structure"
   ]
  },
  {
   "cell_type": "markdown",
   "metadata": {},
   "source": [
    "The dataset is structured as a single file in the widely-used CSV (Comma-Separated Values) format. Each row in the dataset represents a distinct house sale event, while each column corresponds to an attribute or feature of the property.\n",
    "\n",
    "In total, the dataset comprises:\n",
    "- `21613` instances; and\n",
    "- `21` features."
   ]
  },
  {
   "cell_type": "markdown",
   "metadata": {},
   "source": [
    "## Features"
   ]
  },
  {
   "cell_type": "markdown",
   "metadata": {},
   "source": [
    "### Brief Description of Features"
   ]
  },
  {
   "cell_type": "markdown",
   "metadata": {},
   "source": [
    "Our dataset encompasses a rich array of features, both numerical and categorical, each contributing to our understanding of the condition and characteristics of houses. Below is a list of the features included in the dataset, grouped by relevance."
   ]
  },
  {
   "cell_type": "markdown",
   "metadata": {},
   "source": [
    "**Location**\n",
    "- `lat` and `long` represent the latitude and longitude of the house's location.\n",
    "\n",
    "**Size:**\n",
    "- `sqft_living` is the square footage of the interior living space.\n",
    "- `sqft_lot` is the square footage of the land.\n",
    "- `sqft_living15` is the square footage of interior living space for the nearest 15 neighbors.\n",
    "- `sqft_lot15` is the square footage of the land lots of the nearest 15 neighbors.\n",
    "\n",
    "**Rooms:**\n",
    "- `bedrooms` counts the number of bedrooms in the house.\n",
    "- `bathrooms` counts the number of bathrooms. A value of .5 indicates a room with a toilet but no shower.\n",
    "\n",
    "**Floors:**\n",
    "- `floors` is the number of floors in the house.\n",
    "\n",
    "**Waterfront and View:**\n",
    "- `waterfront` is a binary variable, indicating whether the house overlooks the waterfront (1 for yes, 0 for no).\n",
    "- `view` is an index from 0 to 4, rating the quality of the property's view.\n",
    "\n",
    "**Condition and Grade:**\n",
    "- `condition` is an index from 1 to 5, indicating the condition of the apartment.\n",
    "- `grade` is an index from 1 to 13, where 1-3 represent lower-quality construction, 7 indicates average quality, and 11-13 signify high-quality construction and design.\n",
    "\n",
    "**Square Footage Above and Below Ground:**\n",
    "- `sqft_above` represents the square footage of the interior housing space above ground level.\n",
    "- `sqft_basement` represents the square footage of the interior housing space below ground level.\n",
    "\n",
    "**Year Information:**\n",
    "- `yr_built` is the year the house was initially built.\n",
    "- `yr_renovated` is the year of the last house renovation.\n",
    "\n",
    "**Location:**\n",
    "- `zipcode` indicates the zipcode area where the house is situated."
   ]
  },
  {
   "cell_type": "markdown",
   "metadata": {},
   "source": [
    "These attributes provide quantitative details about the properties. In contrast, categorical data, such as 'waterfront' and 'view,' offer qualitative information about specific aspects of the houses. It's important to clarify the significance of each feature as it guides our analysis and classification process. Even those features not directly utilized in our study may hold relevance for a comprehensive understanding of housing conditions."
   ]
  },
  {
   "cell_type": "markdown",
   "metadata": {},
   "source": [
    "### Full Feature Table"
   ]
  },
  {
   "cell_type": "markdown",
   "metadata": {},
   "source": [
    "| Feature        | Description                                                                             |\n",
    "|----------------|-----------------------------------------------------------------------------------------|\n",
    "| id             | Unique ID for each home sold                                                            |\n",
    "| date           | Date of the home sale                                                                  |\n",
    "| price          | Price of each home sold                                                               |\n",
    "| bedrooms       | Number of bedrooms                                                                    |\n",
    "| bathrooms      | Number of bathrooms, where .5 accounts for a room with a toilet but no shower         |\n",
    "| sqft_living    | Square footage of the apartment's interior living space                               |\n",
    "| sqft_lot       | Square footage of the land space                                                       |\n",
    "| floors         | Number of floors                                                                      |\n",
    "| waterfront     | A dummy variable for whether the apartment was overlooking the waterfront or not     |\n",
    "| view           | An index from 0 to 4 of how good the view of the property was                          |\n",
    "| condition      | An index from 1 to 5 on the condition of the apartment                                 |\n",
    "| grade          | An index from 1 to 13, where 1-3 falls short of building construction and design, 7 has an average level of construction and design, and 11-13 have a high quality level of construction and design |\n",
    "| sqft_above     | The square footage of the interior housing space that is above ground level           |\n",
    "| sqft_basement  | The square footage of the interior housing space that is below ground level           |\n",
    "| yr_built       | The year the house was initially built                                                 |\n",
    "| yr_renovated   | The year of the house’s last renovation                                                |\n",
    "| zipcode        | What zipcode area the house is in                                                     |\n",
    "| lat            | Latitude                                                                              |\n",
    "| long           | Longitude                                                                             |\n",
    "| sqft_living15  | The square footage of interior housing living space for the nearest 15 neighbors     |\n",
    "| sqft_lot15     | The square footage of the land lots of the nearest 15 neighbors                         |\n"
   ]
  },
  {
   "cell_type": "markdown",
   "metadata": {},
   "source": [
    "# Section 3. List of Requirements"
   ]
  },
  {
   "cell_type": "code",
   "execution_count": 1,
   "metadata": {},
   "outputs": [],
   "source": [
    "import numpy as np\n",
    "import pandas as pd\n",
    "\n",
    "# Seed for reproducibility\n",
    "np.random.seed(42)\n",
    "SEED = 42\n",
    "\n",
    "# Preprocessing\n",
    "from sklearn.preprocessing import StandardScaler\n",
    "\n",
    "# Visualization\n",
    "import matplotlib.pyplot as plt\n",
    "import seaborn as sns\n",
    "\n",
    "# Geological Visualization\n",
    "import geopandas as gpd\n",
    "from shapely.geometry import Point, Polygon\n",
    "\n",
    "# Machine Learning\n",
    "from sklearn.model_selection import train_test_split\n",
    "from sklearn.model_selection import learning_curve\n",
    "from sklearn.ensemble import RandomForestClassifier\n",
    "from sklearn.linear_model import LogisticRegression\n",
    "from sklearn.naive_bayes import GaussianNB\n",
    "\n",
    "# Evaluation\n",
    "from sklearn.metrics import classification_report, confusion_matrix, accuracy_score, f1_score, precision_score, recall_score, log_loss\n",
    "\n",
    "# Hyperparameter Tuning\n",
    "from sklearn.model_selection import RandomizedSearchCV, GridSearchCV"
   ]
  },
  {
   "cell_type": "markdown",
   "metadata": {},
   "source": [
    "# Section 4. Data Preprocessing and Cleaning"
   ]
  },
  {
   "cell_type": "markdown",
   "metadata": {},
   "source": [
    "Since we intend to classify houses based on their condition, we want to remove biases that may arise from duplicate data. We will remove duplicate rows from the dataset. In this case, there are duplicate houses due to the fact that some houses were sold more than once during the period of study. We will remove the duplicates and keep the last instance of the house."
   ]
  },
  {
   "cell_type": "markdown",
   "metadata": {},
   "source": [
    "## Data Preprocessing"
   ]
  },
  {
   "cell_type": "markdown",
   "metadata": {},
   "source": [
    "### Reading the Data"
   ]
  },
  {
   "cell_type": "code",
   "execution_count": 2,
   "metadata": {},
   "outputs": [
    {
     "data": {
      "text/html": [
       "<div>\n",
       "<style scoped>\n",
       "    .dataframe tbody tr th:only-of-type {\n",
       "        vertical-align: middle;\n",
       "    }\n",
       "\n",
       "    .dataframe tbody tr th {\n",
       "        vertical-align: top;\n",
       "    }\n",
       "\n",
       "    .dataframe thead th {\n",
       "        text-align: right;\n",
       "    }\n",
       "</style>\n",
       "<table border=\"1\" class=\"dataframe\">\n",
       "  <thead>\n",
       "    <tr style=\"text-align: right;\">\n",
       "      <th></th>\n",
       "      <th>id</th>\n",
       "      <th>date</th>\n",
       "      <th>price</th>\n",
       "      <th>bedrooms</th>\n",
       "      <th>bathrooms</th>\n",
       "      <th>sqft_living</th>\n",
       "      <th>sqft_lot</th>\n",
       "      <th>floors</th>\n",
       "      <th>waterfront</th>\n",
       "      <th>view</th>\n",
       "      <th>...</th>\n",
       "      <th>grade</th>\n",
       "      <th>sqft_above</th>\n",
       "      <th>sqft_basement</th>\n",
       "      <th>yr_built</th>\n",
       "      <th>yr_renovated</th>\n",
       "      <th>zipcode</th>\n",
       "      <th>lat</th>\n",
       "      <th>long</th>\n",
       "      <th>sqft_living15</th>\n",
       "      <th>sqft_lot15</th>\n",
       "    </tr>\n",
       "  </thead>\n",
       "  <tbody>\n",
       "    <tr>\n",
       "      <th>0</th>\n",
       "      <td>7129300520</td>\n",
       "      <td>20141013T000000</td>\n",
       "      <td>221900.0</td>\n",
       "      <td>3</td>\n",
       "      <td>1.00</td>\n",
       "      <td>1180</td>\n",
       "      <td>5650</td>\n",
       "      <td>1.0</td>\n",
       "      <td>0</td>\n",
       "      <td>0</td>\n",
       "      <td>...</td>\n",
       "      <td>7</td>\n",
       "      <td>1180</td>\n",
       "      <td>0</td>\n",
       "      <td>1955</td>\n",
       "      <td>0</td>\n",
       "      <td>98178</td>\n",
       "      <td>47.5112</td>\n",
       "      <td>-122.257</td>\n",
       "      <td>1340</td>\n",
       "      <td>5650</td>\n",
       "    </tr>\n",
       "    <tr>\n",
       "      <th>1</th>\n",
       "      <td>6414100192</td>\n",
       "      <td>20141209T000000</td>\n",
       "      <td>538000.0</td>\n",
       "      <td>3</td>\n",
       "      <td>2.25</td>\n",
       "      <td>2570</td>\n",
       "      <td>7242</td>\n",
       "      <td>2.0</td>\n",
       "      <td>0</td>\n",
       "      <td>0</td>\n",
       "      <td>...</td>\n",
       "      <td>7</td>\n",
       "      <td>2170</td>\n",
       "      <td>400</td>\n",
       "      <td>1951</td>\n",
       "      <td>1991</td>\n",
       "      <td>98125</td>\n",
       "      <td>47.7210</td>\n",
       "      <td>-122.319</td>\n",
       "      <td>1690</td>\n",
       "      <td>7639</td>\n",
       "    </tr>\n",
       "    <tr>\n",
       "      <th>2</th>\n",
       "      <td>5631500400</td>\n",
       "      <td>20150225T000000</td>\n",
       "      <td>180000.0</td>\n",
       "      <td>2</td>\n",
       "      <td>1.00</td>\n",
       "      <td>770</td>\n",
       "      <td>10000</td>\n",
       "      <td>1.0</td>\n",
       "      <td>0</td>\n",
       "      <td>0</td>\n",
       "      <td>...</td>\n",
       "      <td>6</td>\n",
       "      <td>770</td>\n",
       "      <td>0</td>\n",
       "      <td>1933</td>\n",
       "      <td>0</td>\n",
       "      <td>98028</td>\n",
       "      <td>47.7379</td>\n",
       "      <td>-122.233</td>\n",
       "      <td>2720</td>\n",
       "      <td>8062</td>\n",
       "    </tr>\n",
       "    <tr>\n",
       "      <th>3</th>\n",
       "      <td>2487200875</td>\n",
       "      <td>20141209T000000</td>\n",
       "      <td>604000.0</td>\n",
       "      <td>4</td>\n",
       "      <td>3.00</td>\n",
       "      <td>1960</td>\n",
       "      <td>5000</td>\n",
       "      <td>1.0</td>\n",
       "      <td>0</td>\n",
       "      <td>0</td>\n",
       "      <td>...</td>\n",
       "      <td>7</td>\n",
       "      <td>1050</td>\n",
       "      <td>910</td>\n",
       "      <td>1965</td>\n",
       "      <td>0</td>\n",
       "      <td>98136</td>\n",
       "      <td>47.5208</td>\n",
       "      <td>-122.393</td>\n",
       "      <td>1360</td>\n",
       "      <td>5000</td>\n",
       "    </tr>\n",
       "    <tr>\n",
       "      <th>4</th>\n",
       "      <td>1954400510</td>\n",
       "      <td>20150218T000000</td>\n",
       "      <td>510000.0</td>\n",
       "      <td>3</td>\n",
       "      <td>2.00</td>\n",
       "      <td>1680</td>\n",
       "      <td>8080</td>\n",
       "      <td>1.0</td>\n",
       "      <td>0</td>\n",
       "      <td>0</td>\n",
       "      <td>...</td>\n",
       "      <td>8</td>\n",
       "      <td>1680</td>\n",
       "      <td>0</td>\n",
       "      <td>1987</td>\n",
       "      <td>0</td>\n",
       "      <td>98074</td>\n",
       "      <td>47.6168</td>\n",
       "      <td>-122.045</td>\n",
       "      <td>1800</td>\n",
       "      <td>7503</td>\n",
       "    </tr>\n",
       "  </tbody>\n",
       "</table>\n",
       "<p>5 rows × 21 columns</p>\n",
       "</div>"
      ],
      "text/plain": [
       "           id             date     price  bedrooms  bathrooms  sqft_living  \\\n",
       "0  7129300520  20141013T000000  221900.0         3       1.00         1180   \n",
       "1  6414100192  20141209T000000  538000.0         3       2.25         2570   \n",
       "2  5631500400  20150225T000000  180000.0         2       1.00          770   \n",
       "3  2487200875  20141209T000000  604000.0         4       3.00         1960   \n",
       "4  1954400510  20150218T000000  510000.0         3       2.00         1680   \n",
       "\n",
       "   sqft_lot  floors  waterfront  view  ...  grade  sqft_above  sqft_basement  \\\n",
       "0      5650     1.0           0     0  ...      7        1180              0   \n",
       "1      7242     2.0           0     0  ...      7        2170            400   \n",
       "2     10000     1.0           0     0  ...      6         770              0   \n",
       "3      5000     1.0           0     0  ...      7        1050            910   \n",
       "4      8080     1.0           0     0  ...      8        1680              0   \n",
       "\n",
       "   yr_built  yr_renovated  zipcode      lat     long  sqft_living15  \\\n",
       "0      1955             0    98178  47.5112 -122.257           1340   \n",
       "1      1951          1991    98125  47.7210 -122.319           1690   \n",
       "2      1933             0    98028  47.7379 -122.233           2720   \n",
       "3      1965             0    98136  47.5208 -122.393           1360   \n",
       "4      1987             0    98074  47.6168 -122.045           1800   \n",
       "\n",
       "   sqft_lot15  \n",
       "0        5650  \n",
       "1        7639  \n",
       "2        8062  \n",
       "3        5000  \n",
       "4        7503  \n",
       "\n",
       "[5 rows x 21 columns]"
      ]
     },
     "execution_count": 2,
     "metadata": {},
     "output_type": "execute_result"
    }
   ],
   "source": [
    "df = pd.read_csv('house_prices.csv')\n",
    "df.head()"
   ]
  },
  {
   "cell_type": "markdown",
   "metadata": {},
   "source": [
    "### Removing Duplicates"
   ]
  },
  {
   "cell_type": "code",
   "execution_count": 3,
   "metadata": {},
   "outputs": [
    {
     "name": "stdout",
     "output_type": "stream",
     "text": [
      "Old Rows: 21613\n",
      "New Rows: 21436\n",
      "Removed Rows: 177\n"
     ]
    }
   ],
   "source": [
    "df_old_rows = len(df)\n",
    "\n",
    "# Store rows with duplicate ids in a separate dataframe\n",
    "df_duplicates = df[df.duplicated(['id'], keep=False)]\n",
    "\n",
    "# Store rows from df_duplicates tha are not the most recent sale in a separate dataframe\n",
    "df_duplicates = df_duplicates[df_duplicates.duplicated(['id'], keep='last')]\n",
    "\n",
    "# Remove rows from df that are in df_duplicates\n",
    "df = df.drop(df_duplicates.index)\n",
    "\n",
    "# Print number old and new number of rows\n",
    "print(f'Old Rows: {df_old_rows}\\nNew Rows: {len(df)}\\nRemoved Rows: {len(df_duplicates)}')"
   ]
  },
  {
   "cell_type": "code",
   "execution_count": 4,
   "metadata": {},
   "outputs": [
    {
     "data": {
      "text/html": [
       "<div>\n",
       "<style scoped>\n",
       "    .dataframe tbody tr th:only-of-type {\n",
       "        vertical-align: middle;\n",
       "    }\n",
       "\n",
       "    .dataframe tbody tr th {\n",
       "        vertical-align: top;\n",
       "    }\n",
       "\n",
       "    .dataframe thead th {\n",
       "        text-align: right;\n",
       "    }\n",
       "</style>\n",
       "<table border=\"1\" class=\"dataframe\">\n",
       "  <thead>\n",
       "    <tr style=\"text-align: right;\">\n",
       "      <th></th>\n",
       "      <th>id</th>\n",
       "      <th>date</th>\n",
       "      <th>price</th>\n",
       "      <th>bedrooms</th>\n",
       "      <th>bathrooms</th>\n",
       "      <th>sqft_living</th>\n",
       "      <th>sqft_lot</th>\n",
       "      <th>floors</th>\n",
       "      <th>waterfront</th>\n",
       "      <th>view</th>\n",
       "      <th>...</th>\n",
       "      <th>grade</th>\n",
       "      <th>sqft_above</th>\n",
       "      <th>sqft_basement</th>\n",
       "      <th>yr_built</th>\n",
       "      <th>yr_renovated</th>\n",
       "      <th>zipcode</th>\n",
       "      <th>lat</th>\n",
       "      <th>long</th>\n",
       "      <th>sqft_living15</th>\n",
       "      <th>sqft_lot15</th>\n",
       "    </tr>\n",
       "  </thead>\n",
       "  <tbody>\n",
       "  </tbody>\n",
       "</table>\n",
       "<p>0 rows × 21 columns</p>\n",
       "</div>"
      ],
      "text/plain": [
       "Empty DataFrame\n",
       "Columns: [id, date, price, bedrooms, bathrooms, sqft_living, sqft_lot, floors, waterfront, view, condition, grade, sqft_above, sqft_basement, yr_built, yr_renovated, zipcode, lat, long, sqft_living15, sqft_lot15]\n",
       "Index: []\n",
       "\n",
       "[0 rows x 21 columns]"
      ]
     },
     "execution_count": 4,
     "metadata": {},
     "output_type": "execute_result"
    }
   ],
   "source": [
    "# Confirm there are no more duplicate ids\n",
    "df[df.duplicated(['id'], keep=False)]"
   ]
  },
  {
   "cell_type": "markdown",
   "metadata": {},
   "source": [
    "## Data Cleaning"
   ]
  },
  {
   "cell_type": "markdown",
   "metadata": {},
   "source": [
    "We will now clean the data by checking for missing values or incorrect data types."
   ]
  },
  {
   "cell_type": "code",
   "execution_count": 5,
   "metadata": {},
   "outputs": [
    {
     "data": {
      "text/plain": [
       "Index(['date'], dtype='object')"
      ]
     },
     "execution_count": 5,
     "metadata": {},
     "output_type": "execute_result"
    }
   ],
   "source": [
    "# Check for string values in the dataframe\n",
    "df.select_dtypes(include=['object']).columns"
   ]
  },
  {
   "cell_type": "markdown",
   "metadata": {},
   "source": [
    "### Missing Values"
   ]
  },
  {
   "cell_type": "code",
   "execution_count": 6,
   "metadata": {},
   "outputs": [
    {
     "data": {
      "text/plain": [
       "id               0\n",
       "grade            0\n",
       "sqft_living15    0\n",
       "long             0\n",
       "lat              0\n",
       "zipcode          0\n",
       "yr_renovated     0\n",
       "yr_built         0\n",
       "sqft_basement    0\n",
       "sqft_above       0\n",
       "condition        0\n",
       "date             0\n",
       "view             0\n",
       "waterfront       0\n",
       "floors           0\n",
       "sqft_lot         0\n",
       "sqft_living      0\n",
       "bathrooms        0\n",
       "bedrooms         0\n",
       "price            0\n",
       "sqft_lot15       0\n",
       "dtype: int64"
      ]
     },
     "execution_count": 6,
     "metadata": {},
     "output_type": "execute_result"
    }
   ],
   "source": [
    "# Check for missing values in the dataset\n",
    "df.isnull().sum().sort_values(ascending=False)"
   ]
  },
  {
   "cell_type": "markdown",
   "metadata": {},
   "source": [
    "### Negative Values"
   ]
  },
  {
   "cell_type": "code",
   "execution_count": 7,
   "metadata": {},
   "outputs": [
    {
     "data": {
      "text/html": [
       "<div>\n",
       "<style scoped>\n",
       "    .dataframe tbody tr th:only-of-type {\n",
       "        vertical-align: middle;\n",
       "    }\n",
       "\n",
       "    .dataframe tbody tr th {\n",
       "        vertical-align: top;\n",
       "    }\n",
       "\n",
       "    .dataframe thead th {\n",
       "        text-align: right;\n",
       "    }\n",
       "</style>\n",
       "<table border=\"1\" class=\"dataframe\">\n",
       "  <thead>\n",
       "    <tr style=\"text-align: right;\">\n",
       "      <th></th>\n",
       "      <th>id</th>\n",
       "      <th>date</th>\n",
       "      <th>price</th>\n",
       "      <th>bedrooms</th>\n",
       "      <th>bathrooms</th>\n",
       "      <th>sqft_living</th>\n",
       "      <th>sqft_lot</th>\n",
       "      <th>floors</th>\n",
       "      <th>waterfront</th>\n",
       "      <th>view</th>\n",
       "      <th>...</th>\n",
       "      <th>grade</th>\n",
       "      <th>sqft_above</th>\n",
       "      <th>sqft_basement</th>\n",
       "      <th>yr_built</th>\n",
       "      <th>yr_renovated</th>\n",
       "      <th>zipcode</th>\n",
       "      <th>lat</th>\n",
       "      <th>long</th>\n",
       "      <th>sqft_living15</th>\n",
       "      <th>sqft_lot15</th>\n",
       "    </tr>\n",
       "  </thead>\n",
       "  <tbody>\n",
       "  </tbody>\n",
       "</table>\n",
       "<p>0 rows × 21 columns</p>\n",
       "</div>"
      ],
      "text/plain": [
       "Empty DataFrame\n",
       "Columns: [id, date, price, bedrooms, bathrooms, sqft_living, sqft_lot, floors, waterfront, view, condition, grade, sqft_above, sqft_basement, yr_built, yr_renovated, zipcode, lat, long, sqft_living15, sqft_lot15]\n",
       "Index: []\n",
       "\n",
       "[0 rows x 21 columns]"
      ]
     },
     "execution_count": 7,
     "metadata": {},
     "output_type": "execute_result"
    }
   ],
   "source": [
    "# Check for negative values (excluding longitude, latitude, date, and id)\n",
    "excluded_cols = ['id', 'long', 'lat', 'date']\n",
    "df[(df.drop(excluded_cols, axis=1) < 0).any(axis=1)]\n"
   ]
  },
  {
   "cell_type": "markdown",
   "metadata": {},
   "source": [
    "### Data Update"
   ]
  },
  {
   "cell_type": "markdown",
   "metadata": {},
   "source": [
    "There is a date column. We will extract the `year`, `month`, `day`, and `day_of_week` from the date column to see if this information is useful for our classification task."
   ]
  },
  {
   "cell_type": "code",
   "execution_count": 8,
   "metadata": {},
   "outputs": [],
   "source": [
    "# Convert date to datetime format\n",
    "df['date'] = pd.to_datetime(df['date'], format='%Y%m%dT%H%M%S')"
   ]
  },
  {
   "cell_type": "code",
   "execution_count": 9,
   "metadata": {},
   "outputs": [],
   "source": [
    "# Extract features from date\n",
    "df['year_sold'] = df['date'].dt.year\n",
    "df['month_sold'] = df['date'].dt.month\n",
    "df['day_sold'] = df['date'].dt.day\n",
    "df['day_of_week_sold'] = df['date'].dt.dayofweek\n",
    "\n",
    "# One-hot encode day_of_week\n",
    "df = pd.get_dummies(df, columns=['day_of_week_sold'])"
   ]
  },
  {
   "cell_type": "markdown",
   "metadata": {},
   "source": [
    "# Section 5. Exploratory Data Analysis"
   ]
  },
  {
   "cell_type": "markdown",
   "metadata": {},
   "source": [
    "## Data Summary and Visualization"
   ]
  },
  {
   "cell_type": "markdown",
   "metadata": {},
   "source": [
    "### Initial Breakdown"
   ]
  },
  {
   "cell_type": "code",
   "execution_count": 10,
   "metadata": {},
   "outputs": [
    {
     "data": {
      "text/html": [
       "<div>\n",
       "<style scoped>\n",
       "    .dataframe tbody tr th:only-of-type {\n",
       "        vertical-align: middle;\n",
       "    }\n",
       "\n",
       "    .dataframe tbody tr th {\n",
       "        vertical-align: top;\n",
       "    }\n",
       "\n",
       "    .dataframe thead th {\n",
       "        text-align: right;\n",
       "    }\n",
       "</style>\n",
       "<table border=\"1\" class=\"dataframe\">\n",
       "  <thead>\n",
       "    <tr style=\"text-align: right;\">\n",
       "      <th></th>\n",
       "      <th>Mean</th>\n",
       "      <th>Standard Deviation</th>\n",
       "      <th>Minimum</th>\n",
       "      <th>25th Percentile</th>\n",
       "      <th>50th Percentile</th>\n",
       "      <th>75th Percentile</th>\n",
       "      <th>Maximum</th>\n",
       "    </tr>\n",
       "  </thead>\n",
       "  <tbody>\n",
       "    <tr>\n",
       "      <th>price</th>\n",
       "      <td>541649.96</td>\n",
       "      <td>367314.93</td>\n",
       "      <td>75000.00</td>\n",
       "      <td>324866.00</td>\n",
       "      <td>450000.00</td>\n",
       "      <td>645000.00</td>\n",
       "      <td>7700000.00</td>\n",
       "    </tr>\n",
       "    <tr>\n",
       "      <th>bedrooms</th>\n",
       "      <td>3.37</td>\n",
       "      <td>0.93</td>\n",
       "      <td>0.00</td>\n",
       "      <td>3.00</td>\n",
       "      <td>3.00</td>\n",
       "      <td>4.00</td>\n",
       "      <td>33.00</td>\n",
       "    </tr>\n",
       "    <tr>\n",
       "      <th>bathrooms</th>\n",
       "      <td>2.12</td>\n",
       "      <td>0.77</td>\n",
       "      <td>0.00</td>\n",
       "      <td>1.75</td>\n",
       "      <td>2.25</td>\n",
       "      <td>2.50</td>\n",
       "      <td>8.00</td>\n",
       "    </tr>\n",
       "    <tr>\n",
       "      <th>sqft_living</th>\n",
       "      <td>2082.70</td>\n",
       "      <td>919.15</td>\n",
       "      <td>290.00</td>\n",
       "      <td>1430.00</td>\n",
       "      <td>1920.00</td>\n",
       "      <td>2550.00</td>\n",
       "      <td>13540.00</td>\n",
       "    </tr>\n",
       "    <tr>\n",
       "      <th>sqft_lot</th>\n",
       "      <td>15135.64</td>\n",
       "      <td>41538.62</td>\n",
       "      <td>520.00</td>\n",
       "      <td>5040.00</td>\n",
       "      <td>7614.00</td>\n",
       "      <td>10696.25</td>\n",
       "      <td>1651359.00</td>\n",
       "    </tr>\n",
       "    <tr>\n",
       "      <th>floors</th>\n",
       "      <td>1.50</td>\n",
       "      <td>0.54</td>\n",
       "      <td>1.00</td>\n",
       "      <td>1.00</td>\n",
       "      <td>1.50</td>\n",
       "      <td>2.00</td>\n",
       "      <td>3.50</td>\n",
       "    </tr>\n",
       "    <tr>\n",
       "      <th>waterfront</th>\n",
       "      <td>0.01</td>\n",
       "      <td>0.09</td>\n",
       "      <td>0.00</td>\n",
       "      <td>0.00</td>\n",
       "      <td>0.00</td>\n",
       "      <td>0.00</td>\n",
       "      <td>1.00</td>\n",
       "    </tr>\n",
       "    <tr>\n",
       "      <th>view</th>\n",
       "      <td>0.24</td>\n",
       "      <td>0.77</td>\n",
       "      <td>0.00</td>\n",
       "      <td>0.00</td>\n",
       "      <td>0.00</td>\n",
       "      <td>0.00</td>\n",
       "      <td>4.00</td>\n",
       "    </tr>\n",
       "    <tr>\n",
       "      <th>condition</th>\n",
       "      <td>3.41</td>\n",
       "      <td>0.65</td>\n",
       "      <td>1.00</td>\n",
       "      <td>3.00</td>\n",
       "      <td>3.00</td>\n",
       "      <td>4.00</td>\n",
       "      <td>5.00</td>\n",
       "    </tr>\n",
       "    <tr>\n",
       "      <th>grade</th>\n",
       "      <td>7.66</td>\n",
       "      <td>1.17</td>\n",
       "      <td>1.00</td>\n",
       "      <td>7.00</td>\n",
       "      <td>7.00</td>\n",
       "      <td>8.00</td>\n",
       "      <td>13.00</td>\n",
       "    </tr>\n",
       "    <tr>\n",
       "      <th>sqft_above</th>\n",
       "      <td>1790.96</td>\n",
       "      <td>829.03</td>\n",
       "      <td>290.00</td>\n",
       "      <td>1200.00</td>\n",
       "      <td>1560.00</td>\n",
       "      <td>2220.00</td>\n",
       "      <td>9410.00</td>\n",
       "    </tr>\n",
       "    <tr>\n",
       "      <th>sqft_basement</th>\n",
       "      <td>291.74</td>\n",
       "      <td>442.78</td>\n",
       "      <td>0.00</td>\n",
       "      <td>0.00</td>\n",
       "      <td>0.00</td>\n",
       "      <td>560.00</td>\n",
       "      <td>4820.00</td>\n",
       "    </tr>\n",
       "    <tr>\n",
       "      <th>yr_built</th>\n",
       "      <td>1971.10</td>\n",
       "      <td>29.39</td>\n",
       "      <td>1900.00</td>\n",
       "      <td>1952.00</td>\n",
       "      <td>1975.00</td>\n",
       "      <td>1997.00</td>\n",
       "      <td>2015.00</td>\n",
       "    </tr>\n",
       "    <tr>\n",
       "      <th>yr_renovated</th>\n",
       "      <td>84.73</td>\n",
       "      <td>402.43</td>\n",
       "      <td>0.00</td>\n",
       "      <td>0.00</td>\n",
       "      <td>0.00</td>\n",
       "      <td>0.00</td>\n",
       "      <td>2015.00</td>\n",
       "    </tr>\n",
       "    <tr>\n",
       "      <th>zipcode</th>\n",
       "      <td>98077.86</td>\n",
       "      <td>53.47</td>\n",
       "      <td>98001.00</td>\n",
       "      <td>98033.00</td>\n",
       "      <td>98065.00</td>\n",
       "      <td>98117.00</td>\n",
       "      <td>98199.00</td>\n",
       "    </tr>\n",
       "    <tr>\n",
       "      <th>lat</th>\n",
       "      <td>47.56</td>\n",
       "      <td>0.14</td>\n",
       "      <td>47.16</td>\n",
       "      <td>47.47</td>\n",
       "      <td>47.57</td>\n",
       "      <td>47.68</td>\n",
       "      <td>47.78</td>\n",
       "    </tr>\n",
       "    <tr>\n",
       "      <th>long</th>\n",
       "      <td>-122.21</td>\n",
       "      <td>0.14</td>\n",
       "      <td>-122.52</td>\n",
       "      <td>-122.33</td>\n",
       "      <td>-122.23</td>\n",
       "      <td>-122.12</td>\n",
       "      <td>-121.32</td>\n",
       "    </tr>\n",
       "    <tr>\n",
       "      <th>sqft_living15</th>\n",
       "      <td>1988.31</td>\n",
       "      <td>685.70</td>\n",
       "      <td>399.00</td>\n",
       "      <td>1490.00</td>\n",
       "      <td>1840.00</td>\n",
       "      <td>2370.00</td>\n",
       "      <td>6210.00</td>\n",
       "    </tr>\n",
       "    <tr>\n",
       "      <th>sqft_lot15</th>\n",
       "      <td>12785.96</td>\n",
       "      <td>27375.47</td>\n",
       "      <td>651.00</td>\n",
       "      <td>5100.00</td>\n",
       "      <td>7620.00</td>\n",
       "      <td>10087.25</td>\n",
       "      <td>871200.00</td>\n",
       "    </tr>\n",
       "    <tr>\n",
       "      <th>year_sold</th>\n",
       "      <td>2014.33</td>\n",
       "      <td>0.47</td>\n",
       "      <td>2014.00</td>\n",
       "      <td>2014.00</td>\n",
       "      <td>2014.00</td>\n",
       "      <td>2015.00</td>\n",
       "      <td>2015.00</td>\n",
       "    </tr>\n",
       "    <tr>\n",
       "      <th>month_sold</th>\n",
       "      <td>6.56</td>\n",
       "      <td>3.12</td>\n",
       "      <td>1.00</td>\n",
       "      <td>4.00</td>\n",
       "      <td>6.00</td>\n",
       "      <td>9.00</td>\n",
       "      <td>12.00</td>\n",
       "    </tr>\n",
       "    <tr>\n",
       "      <th>day_sold</th>\n",
       "      <td>15.69</td>\n",
       "      <td>8.64</td>\n",
       "      <td>1.00</td>\n",
       "      <td>8.00</td>\n",
       "      <td>16.00</td>\n",
       "      <td>23.00</td>\n",
       "      <td>31.00</td>\n",
       "    </tr>\n",
       "  </tbody>\n",
       "</table>\n",
       "</div>"
      ],
      "text/plain": [
       "                    Mean  Standard Deviation   Minimum  25th Percentile  \\\n",
       "price          541649.96           367314.93  75000.00        324866.00   \n",
       "bedrooms            3.37                0.93      0.00             3.00   \n",
       "bathrooms           2.12                0.77      0.00             1.75   \n",
       "sqft_living      2082.70              919.15    290.00          1430.00   \n",
       "sqft_lot        15135.64            41538.62    520.00          5040.00   \n",
       "floors              1.50                0.54      1.00             1.00   \n",
       "waterfront          0.01                0.09      0.00             0.00   \n",
       "view                0.24                0.77      0.00             0.00   \n",
       "condition           3.41                0.65      1.00             3.00   \n",
       "grade               7.66                1.17      1.00             7.00   \n",
       "sqft_above       1790.96              829.03    290.00          1200.00   \n",
       "sqft_basement     291.74              442.78      0.00             0.00   \n",
       "yr_built         1971.10               29.39   1900.00          1952.00   \n",
       "yr_renovated       84.73              402.43      0.00             0.00   \n",
       "zipcode         98077.86               53.47  98001.00         98033.00   \n",
       "lat                47.56                0.14     47.16            47.47   \n",
       "long             -122.21                0.14   -122.52          -122.33   \n",
       "sqft_living15    1988.31              685.70    399.00          1490.00   \n",
       "sqft_lot15      12785.96            27375.47    651.00          5100.00   \n",
       "year_sold        2014.33                0.47   2014.00          2014.00   \n",
       "month_sold          6.56                3.12      1.00             4.00   \n",
       "day_sold           15.69                8.64      1.00             8.00   \n",
       "\n",
       "               50th Percentile  75th Percentile     Maximum  \n",
       "price                450000.00        645000.00  7700000.00  \n",
       "bedrooms                  3.00             4.00       33.00  \n",
       "bathrooms                 2.25             2.50        8.00  \n",
       "sqft_living            1920.00          2550.00    13540.00  \n",
       "sqft_lot               7614.00         10696.25  1651359.00  \n",
       "floors                    1.50             2.00        3.50  \n",
       "waterfront                0.00             0.00        1.00  \n",
       "view                      0.00             0.00        4.00  \n",
       "condition                 3.00             4.00        5.00  \n",
       "grade                     7.00             8.00       13.00  \n",
       "sqft_above             1560.00          2220.00     9410.00  \n",
       "sqft_basement             0.00           560.00     4820.00  \n",
       "yr_built               1975.00          1997.00     2015.00  \n",
       "yr_renovated              0.00             0.00     2015.00  \n",
       "zipcode               98065.00         98117.00    98199.00  \n",
       "lat                      47.57            47.68       47.78  \n",
       "long                   -122.23          -122.12     -121.32  \n",
       "sqft_living15          1840.00          2370.00     6210.00  \n",
       "sqft_lot15             7620.00         10087.25   871200.00  \n",
       "year_sold              2014.00          2015.00     2015.00  \n",
       "month_sold                6.00             9.00       12.00  \n",
       "day_sold                 16.00            23.00       31.00  "
      ]
     },
     "execution_count": 10,
     "metadata": {},
     "output_type": "execute_result"
    }
   ],
   "source": [
    "# Generate a summary of the dataset\n",
    "# Remove columns with no significant data and format the output\n",
    "remove_cols = ['id', 'date']\n",
    "df_summary = df.drop(remove_cols, axis=1).describe().transpose()\n",
    "df_summary = df_summary[['mean', 'std', 'min', '25%', '50%', '75%', 'max']]\n",
    "df_summary = df_summary.round(2)\n",
    "df_summary = df_summary.rename(columns={'mean': 'Mean', 'std': 'Standard Deviation', 'min': 'Minimum', '25%': '25th Percentile', '50%': '50th Percentile', '75%': '75th Percentile', 'max': 'Maximum'})\n",
    "df_summary"
   ]
  },
  {
   "cell_type": "markdown",
   "metadata": {},
   "source": [
    "### Visualizations"
   ]
  },
  {
   "cell_type": "markdown",
   "metadata": {},
   "source": [
    "#### House Prices"
   ]
  },
  {
   "cell_type": "markdown",
   "metadata": {},
   "source": [
    "We will now look at the numerical distribution of house prices."
   ]
  },
  {
   "cell_type": "code",
   "execution_count": 11,
   "metadata": {},
   "outputs": [
    {
     "data": {
      "text/plain": [
       "count      21436.000000\n",
       "mean      541649.962726\n",
       "std       367314.929395\n",
       "min        75000.000000\n",
       "25%       324866.000000\n",
       "50%       450000.000000\n",
       "75%       645000.000000\n",
       "max      7700000.000000\n",
       "Name: price, dtype: object"
      ]
     },
     "execution_count": 11,
     "metadata": {},
     "output_type": "execute_result"
    }
   ],
   "source": [
    "# Print the numerical data behind `price`\n",
    "df['price'].describe().apply(lambda x: format(x, 'f'))"
   ]
  },
  {
   "cell_type": "markdown",
   "metadata": {},
   "source": [
    "The average price for a house appears to be `$541,649.9627` with a standard deviation of `$367,314.9294`. The minimum price for a house is `$75,000.0000` and the maximum price for a house is `$7,700,000.0000`."
   ]
  },
  {
   "cell_type": "markdown",
   "metadata": {},
   "source": [
    "#### House Built and Renovated"
   ]
  },
  {
   "cell_type": "markdown",
   "metadata": {},
   "source": [
    "We now know that most houses are in average condition. Let's see how many houses were built and renovated."
   ]
  },
  {
   "cell_type": "code",
   "execution_count": 12,
   "metadata": {},
   "outputs": [
    {
     "data": {
      "image/png": "[encoded data removed]",
      "text/plain": [
       "<Figure size 1200x400 with 2 Axes>"
      ]
     },
     "metadata": {},
     "output_type": "display_data"
    },
    {
     "name": "stdout",
     "output_type": "stream",
     "text": [
      "Renovated: 910\n",
      "Not Renovated: 20526\n",
      "\n",
      "\n",
      "Most houses were built in 2014\n",
      "Number of houses built in 2014: 559\n",
      "Most houses were renovated in 2014\n",
      "Number of houses renovated in 2014: 91\n"
     ]
    }
   ],
   "source": [
    "# Create a new figure with two subplots\n",
    "fig, (ax1, ax2) = plt.subplots(1, 2, figsize=(12, 4))  # 1 row, 2 columns\n",
    "\n",
    "# Plot the 'Year Built' histogram on the first subplot (ax1)\n",
    "ax1.hist(df['yr_built'], edgecolor='k')\n",
    "ax1.set_title('Year Built')\n",
    "ax1.set_xlabel('Year Built')\n",
    "ax1.set_ylabel('Count')\n",
    "\n",
    "# Plot the 'Year Renovated' histogram on the second subplot (ax2)\n",
    "renovated = df[df['yr_renovated'] > 0]\n",
    "ax2.hist(renovated['yr_renovated'], edgecolor='k')\n",
    "ax2.set_title('Year Renovated')\n",
    "ax2.set_xlabel('Year Renovated')\n",
    "ax2.set_ylabel('Count')\n",
    "\n",
    "# Adjust the layout to prevent overlap\n",
    "plt.tight_layout()\n",
    "\n",
    "# Show the combined plot\n",
    "plt.show()\n",
    "\n",
    "# Print how many houses have been renovated and how many have not\n",
    "print(f'Renovated: {len(renovated)}\\nNot Renovated: {len(df) - len(renovated)}')\n",
    "\n",
    "print('\\n')\n",
    "\n",
    "# Print the year most houses were built and the number of houses built in that year\n",
    "print(f'Most houses were built in {df[\"yr_built\"].mode()[0]}')\n",
    "print(f'Number of houses built in {df[\"yr_built\"].mode()[0]}: {len(df[df[\"yr_built\"] == df[\"yr_built\"].mode()[0]])}')\n",
    "\n",
    "# Print the year most houses were renovated and the number of houses renovated in that year (don't include houses that haven't been renovated)\n",
    "print(f'Most houses were renovated in {renovated[\"yr_renovated\"].mode()[0]}')\n",
    "print(f'Number of houses renovated in {renovated[\"yr_renovated\"].mode()[0]}: {len(renovated[renovated[\"yr_renovated\"] == renovated[\"yr_renovated\"].mode()[0]])}')\n"
   ]
  },
  {
   "cell_type": "markdown",
   "metadata": {},
   "source": [
    "Given the data, it seems that the renovated houses are not that many. Meaning that most houses are in their original state. Most houses appear to be built and renovated in 2014. This means that most houses are new and have not been renovated yet. However, we must consider that the data was collected from May 2014 to May 2015. This may have underlying effects on the data due to the fact that the data was collected in a span of one year and that 2014 is the most recent year in the data."
   ]
  },
  {
   "cell_type": "markdown",
   "metadata": {},
   "source": [
    "#### House material grade"
   ]
  },
  {
   "cell_type": "markdown",
   "metadata": {},
   "source": [
    "The material grade of a house is an important factor in determining the condition and price of a house. Let's see how many houses are in each material grade.\n",
    "\n",
    "`grade` - \n",
    "*An index from 1 to 13, where 1-3 falls short of building construction and design, 7 has an average level of construction and design, and 11-13 have a high quality level of construction and design*"
   ]
  },
  {
   "cell_type": "code",
   "execution_count": 13,
   "metadata": {},
   "outputs": [
    {
     "data": {
      "image/png": "[encoded data removed]",
      "text/plain": [
       "<Figure size 640x480 with 1 Axes>"
      ]
     },
     "metadata": {},
     "output_type": "display_data"
    },
    {
     "data": {
      "text/plain": [
       "grade\n",
       "7     8896\n",
       "8     6044\n",
       "9     2606\n",
       "6     1995\n",
       "10    1130\n",
       "11     396\n",
       "5      234\n",
       "12      89\n",
       "4       29\n",
       "13      13\n",
       "3        3\n",
       "1        1\n",
       "Name: count, dtype: int64"
      ]
     },
     "execution_count": 13,
     "metadata": {},
     "output_type": "execute_result"
    }
   ],
   "source": [
    "# Plot the grade distribution\n",
    "plt.hist(df['grade'], bins=13, edgecolor='k')\n",
    "plt.title('Grade')\n",
    "plt.xlabel('Grade')\n",
    "plt.ylabel('Count')\n",
    "plt.show()\n",
    "\n",
    "# Print the value counts for `grade`\n",
    "df['grade'].value_counts()\n"
   ]
  },
  {
   "cell_type": "markdown",
   "metadata": {},
   "source": [
    "Most houses appear to be in grade 7. This means that most houses have an average level of construction and design. This means that most houses are not that well-built and designed. This may be a factor in determining the condition of a house.\n",
    "\n",
    "- Only four (4) houses are in grade 1-3 meaning that only four (4) houses are poorly built and designed and in poor condition.\n",
    "- `498` houses are in grade 11-13 meaning that `498` houses are well-built and designed and in good condition.\n",
    "- `16,554` houses are in grade 4-10 meaning that `16,554` houses are averagely built and designed and in average condition.\n",
    "  - `2047` houses are in grade 4-6 meaning that `2047` houses are below average condition.\n",
    "  - `8896` houses are in grade 7 meaning that `8896` houses are average condition.\n",
    "  - `6611` houses are in grade 8-10 meaning that `6611` houses are above average condition.\n",
    "\n",
    "The construction of most houses appear to be on the higher spectrum of material grade. It is more likely that most houses are in average to above average condition."
   ]
  },
  {
   "cell_type": "markdown",
   "metadata": {},
   "source": [
    "#### Rooms"
   ]
  },
  {
   "cell_type": "markdown",
   "metadata": {},
   "source": [
    "Now, let's have a quick look at the number of bedrooms and bathrooms in houses."
   ]
  },
  {
   "cell_type": "code",
   "execution_count": null,
   "metadata": {},
   "outputs": [],
   "source": [
    "# Plot bedrooms and bathrooms on separate plots as a histogram\n",
    "fig, (ax1, ax2) = plt.subplots(1, 2, figsize=(12, 4))  # 1 row, 2 columns\n",
    "\n",
    "ax1.hist(df['bedrooms'], edgecolor='k')\n",
    "ax1.set_title('Bedrooms')\n",
    "ax1.set_xlabel('Bedrooms')\n",
    "ax1.set_ylabel('Count')\n",
    "\n",
    "ax2.hist(df['bathrooms'], edgecolor='k')\n",
    "ax2.set_title('Bathrooms')\n",
    "ax2.set_xlabel('Bathrooms')\n",
    "ax2.set_ylabel('Count')\n",
    "\n",
    "plt.tight_layout()\n",
    "plt.show()\n",
    "\n",
    "# Describe bedrooms and bathrooms\n",
    "df[['bedrooms', 'bathrooms']].describe()\n",
    "\n"
   ]
  },
  {
   "cell_type": "markdown",
   "metadata": {},
   "source": [
    "Upon observation, it is common for houses to have `three (3)` bedrooms and `two (2)` bathrooms. This may infer that most houses are built for families. Containing possibly at least three persons."
   ]
  },
  {
   "cell_type": "markdown",
   "metadata": {},
   "source": [
    "#### Square Feet"
   ]
  },
  {
   "cell_type": "markdown",
   "metadata": {},
   "source": [
    "Lastly, let's have a look at the square feet of houses. This may help us determine the size of houses."
   ]
  },
  {
   "cell_type": "code",
   "execution_count": null,
   "metadata": {},
   "outputs": [],
   "source": [
    "# Plot the `sqft_lot` and `sqft_living` columns on separate plots as a histogram\n",
    "fig, (ax1, ax2) = plt.subplots(1, 2, figsize=(12, 4))  # 1 row, 2 columns\n",
    "\n",
    "ax1.hist(df['sqft_lot'], edgecolor='k')\n",
    "ax1.set_title('Square Feet Lot')\n",
    "ax1.set_xlabel('Square Feet Lot')\n",
    "ax1.set_ylabel('Count')\n",
    "\n",
    "ax2.hist(df['sqft_living'], edgecolor='k')\n",
    "ax2.set_title('Square Feet Living')\n",
    "ax2.set_xlabel('Square Feet Living')\n",
    "ax2.set_ylabel('Count')\n",
    "\n",
    "plt.tight_layout()\n",
    "plt.show()\n",
    "\n",
    "# Describe `sqft_lot` and `sqft_living` and format the output. Add another column for the percentage difference between the two\n",
    "sqft = df[['sqft_lot', 'sqft_living']].describe()\n",
    "sqft['difference'] = sqft['sqft_lot'] - sqft['sqft_living']\n",
    "sqft['difference_percentage'] = sqft['difference'] / sqft['sqft_lot']\n",
    "sqft = sqft.round(2)\n",
    "sqft = sqft.rename(columns={'sqft_lot': 'Square Feet Lot', 'sqft_living': 'Square Feet Living'})\n",
    "sqft"
   ]
  },
  {
   "cell_type": "markdown",
   "metadata": {},
   "source": [
    "On average, houses have a square feet of `2082.70` and a lot size of `15135.64`. We observe that there is about `86%` of the lot that goes unused. However, for lower lot sizes, it's around `44%`. This possibly infers that the smaller the lot size, the more likely it is that the lot is fully utilized."
   ]
  },
  {
   "cell_type": "markdown",
   "metadata": {},
   "source": [
    "### Findings"
   ]
  },
  {
   "cell_type": "markdown",
   "metadata": {},
   "source": [
    "Based on the summary of the various features, we can infer the following:\n",
    "- Most houses are in average condition and it is more likely that most houses are in average to above average condition.\n",
    "- `22.56%` of the houses have renovated at least once. It is more likely that most houses are in their original state.\n",
    "- Most houses are in grade 7 meaning that most houses have an average level of construction and design. It is also more likely for houses to have grade 7 and higher, meaning houses are in average to above average in terms of construction quality.\n",
    "- Most houses have `three (3)` bedrooms and `two (2)` bathrooms. It is more likely that most houses are built for families.\n",
    "- We observe that commonly, there is about `86%` of the lot that goes unused. However, for lower lot sizes, it's around `44%`. This possibly infers that the smaller the lot size, the more likely it is that the lot is fully utilized."
   ]
  },
  {
   "cell_type": "markdown",
   "metadata": {},
   "source": [
    "## Class Distribution Analysis"
   ]
  },
  {
   "cell_type": "markdown",
   "metadata": {},
   "source": [
    "#### Condition of Houses"
   ]
  },
  {
   "cell_type": "markdown",
   "metadata": {},
   "source": [
    "Let's start by finding out what are the number of houses in each condition."
   ]
  },
  {
   "cell_type": "code",
   "execution_count": null,
   "metadata": {},
   "outputs": [],
   "source": [
    "# Histogram of the `condition` column with labels\n",
    "plt.hist(df['condition'], bins=5, edgecolor='k')\n",
    "plt.title('Condition')\n",
    "plt.xlabel('Condition')\n",
    "plt.ylabel('Count')\n",
    "plt.show()\n",
    "\n",
    "# Also print the value counts\n",
    "df['condition'].value_counts()"
   ]
  },
  {
   "cell_type": "code",
   "execution_count": null,
   "metadata": {},
   "outputs": [],
   "source": [
    "# Get percentage of the houses based on condition\n",
    "condition_percentages = df['condition'].value_counts(normalize=True)\n",
    "\n",
    "# Format the percentages to 2 decimal places\n",
    "condition_percentages.map(lambda x: '{:.2f}%'.format(x*100))\n"
   ]
  },
  {
   "cell_type": "markdown",
   "metadata": {},
   "source": [
    "On average, most houses would fall under the 3.0 category. This means that most houses are in average condition. Meaning, out of `21436` houses, `13911` houses are in average condition. This means that `64.90%` of the houses are in average condition.\n",
    "\n",
    "As for those with above average houses, houses under 4.0 and 5.0 are considered above average. This means that out of `21436` houses, `7332` houses are above average. This means that `34.20%` of the houses are above average.\n",
    "- There are `5646` houses with a condition of four (4). They comprise `26.33%` of the houses.\n",
    "- There are `1687` houses with a condition of five (5). They comprise `7.87%` of the houses.\n",
    "\n",
    "As for those with below average houses, houses under 1.0 and 2.0 are considered below average. This means that out of `21436` houses, `193` houses are below average. This means that `0.9%` of the houses are below average.\n",
    "- There are `164` houses with a condition of two (2). They comprise `0.77%` of the houses.\n",
    "- There are `29` houses with a condition of one (1). They comprise `0.14%` of the houses."
   ]
  },
  {
   "cell_type": "markdown",
   "metadata": {},
   "source": [
    "## Correlation Analysis"
   ]
  },
  {
   "cell_type": "markdown",
   "metadata": {},
   "source": [
    "Since we are classifying houses based on their condition, we want to know which features are correlated to the condition of a house. This will help us determine which features are important in determining the condition of a house."
   ]
  },
  {
   "cell_type": "markdown",
   "metadata": {},
   "source": [
    "### Visualizations"
   ]
  },
  {
   "cell_type": "markdown",
   "metadata": {},
   "source": [
    "#### Price"
   ]
  },
  {
   "cell_type": "markdown",
   "metadata": {},
   "source": [
    "Price is the most common determinant of quality in products. It is common belief in most people that the more expensive a product is, the better the quality. This may also be true for houses. Let's see if the price of a house is correlated to its condition."
   ]
  },
  {
   "cell_type": "code",
   "execution_count": null,
   "metadata": {},
   "outputs": [],
   "source": [
    "fig, axes = plt.subplots(nrows=1, ncols=3, figsize=(12, 4))\n",
    "\n",
    "# Original Scatter plot\n",
    "axes[0].scatter(df['condition'], df['price'])\n",
    "axes[0].set_title('Condition vs Price')\n",
    "axes[0].set_xlabel('Condition')\n",
    "axes[0].set_ylabel('Price')\n",
    "\n",
    "# Add a correlation line to the first scatter plot (axes[0])\n",
    "correlation_line = np.polyfit(df['condition'], df['price'], 1)\n",
    "axes[0].plot(df['condition'], np.polyval(correlation_line, df['condition']), color='orange', linestyle='dashed', linewidth=2)\n",
    "\n",
    "# Get correlation coefficient for condition and price\n",
    "correlation_coefficient = np.corrcoef(df['condition'], df['price'])[0, 1]\n",
    "print(f'Correlation Coefficient: {correlation_coefficient}')\n",
    "\n",
    "# Calculate median price for each condition\n",
    "median_prices = df.groupby('condition')['price'].median().reset_index(name='median_price')\n",
    "\n",
    "# Scatter plot with normalized median prices and a connecting line\n",
    "axes[1].scatter(median_prices['condition'], median_prices['median_price'])\n",
    "axes[1].plot(median_prices['condition'], median_prices['median_price'], color='red', linestyle='dashed', marker='o', markersize=8)\n",
    "axes[1].set_title('Condition vs Median Price with Trend Line')\n",
    "axes[1].set_xlabel('Condition')\n",
    "axes[1].set_ylabel('Median Price')\n",
    "\n",
    "# Calculate mean price for each condition\n",
    "mean_prices = df.groupby('condition')['price'].mean().reset_index(name='mean_price')\n",
    "\n",
    "# Scatter plot with normalized mean prices and a connecting line\n",
    "axes[2].scatter(mean_prices['condition'], mean_prices['mean_price'])\n",
    "axes[2].plot(mean_prices['condition'], mean_prices['mean_price'], color='red', linestyle='dashed', marker='o', markersize=8)\n",
    "axes[2].set_title('Condition vs Mean Price with Trend Line')\n",
    "axes[2].set_xlabel('Condition')\n",
    "axes[2].set_ylabel('Mean Price')\n",
    "\n",
    "# Adjust layout\n",
    "plt.tight_layout()\n",
    "plt.show()"
   ]
  },
  {
   "cell_type": "markdown",
   "metadata": {},
   "source": [
    "It appears that the price of a house is not correlated to its condition. However, the more expensive a house is based on average values, the better its condition. This may be due to the fact that the more expensive a house is, the more likely it is that the house is well-built and designed. We see that the houses with lower conditions reach the smaller price ranges. But again, we can not confirm that it is directly correlated to the condition.\n",
    "\n",
    "However, oddly enough, the best conditioned houses do not have the highest price, but on average are more expensive. It was the houses with the condition at 4.0 that got the highest price, probably due to some outliers. The correlation is not perfectly linear, however, it can  still be observed that the prices are indeed higher for conditions 3+ in contrast to 1 and 2.\n",
    "\n",
    "Judging by the polyfit line on the scatter plot, the correlation is quite straight and with a correlation value of 0.03453, we can say that the price of a house is not correlated to its condition. However, we can say that the average prices of each condition reveal that the price of conditions 1 and 2 are around 350,000 and 100,000 respectively, while the price of conditions 3, 4, and 5 are around 550,000, 525,000, and 700,000 respectively."
   ]
  },
  {
   "cell_type": "markdown",
   "metadata": {},
   "source": [
    "#### Grade"
   ]
  },
  {
   "cell_type": "markdown",
   "metadata": {},
   "source": [
    "Let's see if the grade of a house is correlated to its condition."
   ]
  },
  {
   "cell_type": "code",
   "execution_count": null,
   "metadata": {},
   "outputs": [],
   "source": [
    "fig, axes = plt.subplots(nrows=1, ncols=3, figsize=(12, 4))\n",
    "\n",
    "# Original Violin plot\n",
    "sns.violinplot(x='condition', y='grade', data=df, palette='viridis', ax=axes[0])\n",
    "axes[0].set_title('Condition vs Grade (Violin Plot)')\n",
    "axes[0].set_xlabel('Condition')\n",
    "axes[0].set_ylabel('Grade')\n",
    "\n",
    "# Add a correlation line to the first plot (axes[0])\n",
    "correlation_line = np.polyfit(df['condition'], df['grade'], 1)\n",
    "axes[0].plot(df['condition'], np.polyval(correlation_line, df['condition']), color='orange', linestyle='dashed', linewidth=2)\n",
    "\n",
    "# Get correlation coefficient for condition and grade\n",
    "correlation_coefficient = np.corrcoef(df['condition'], df['grade'])[0, 1]\n",
    "print(f'Correlation Coefficient: {correlation_coefficient}')\n",
    "\n",
    "# Calculate median grade for each condition\n",
    "median_grades = df.groupby('condition')['grade'].median().reset_index(name='median_grade')\n",
    "\n",
    "# Original KDE plot\n",
    "sns.kdeplot(data=df, x='grade', hue='condition', common_norm=False, fill=True, palette='viridis', ax=axes[1])\n",
    "axes[1].set_title('Condition vs Grade (KDE Plot)')\n",
    "axes[1].set_xlabel('Grade')\n",
    "axes[1].set_ylabel('Density')\n",
    "\n",
    "# Scatter plot with normalized median grades and a connecting line\n",
    "axes[2].scatter(median_grades['condition'], median_grades['median_grade'])\n",
    "axes[2].plot(median_grades['condition'], median_grades['median_grade'], color='red', linestyle='dashed', marker='o', markersize=8)\n",
    "axes[2].set_title('Condition vs Grade with Median Line (Scatter Plot)')\n",
    "axes[2].set_xlabel('Condition')\n",
    "axes[2].set_ylabel('Grade')\n",
    "\n",
    "# Adjust layout\n",
    "plt.tight_layout()\n",
    "plt.show()"
   ]
  },
  {
   "cell_type": "markdown",
   "metadata": {},
   "source": [
    "The grade of a house does not have a good correlation to its condition with a value of -0.1482.\n",
    "\n",
    "The higher the grade of a house, the better its condition. This may be due to the fact that the higher the grade of a house, the more likely it is that the house is well-built and designed. We see that the houses with lower conditions reach the lower grade ranges.\n",
    "\n",
    "Only with condition 1 is where you can find a house with a grade of 1. It's highest is only 8 when the other conditions can reach 12 and 13. With a large majority of houses being condition 3, it is not surprising to see that it was able to span a lot of grades but nothing below 3."
   ]
  },
  {
   "cell_type": "markdown",
   "metadata": {},
   "source": [
    "### Heatmap"
   ]
  },
  {
   "cell_type": "markdown",
   "metadata": {},
   "source": [
    "As we have observed, the correlation of values seem to be difficult due to the small sample size of the data on condition 1, 2, and 5. However, we can still observe some correlations. Let's see if we can find any correlations between the features."
   ]
  },
  {
   "cell_type": "code",
   "execution_count": null,
   "metadata": {},
   "outputs": [],
   "source": [
    "# Plot the correlation of condition to every other feature only\n",
    "plt.figure(figsize=(12, 8))\n",
    "sns.heatmap(df.corr()[['condition']].sort_values('condition'), annot=True, cmap='viridis')\n",
    "plt.title('Correlation of Condition to Every Other Feature')\n",
    "plt.show()"
   ]
  },
  {
   "cell_type": "markdown",
   "metadata": {},
   "source": [
    "It appears that the closest correlation we can confirm w ould be the `sqft_basement`, however, the correlation is only valued at 0.17, not making it a good correlation. However, the other correlation we can look at is the `yr_built` which provides a negative correlation valued at -0.36, which although may be better, it is not good enough."
   ]
  },
  {
   "cell_type": "markdown",
   "metadata": {},
   "source": [
    "### Findings"
   ]
  },
  {
   "cell_type": "markdown",
   "metadata": {},
   "source": [
    "It appears to be difficult to note down which features are correlated to the condition of a house. This is highly due to the observed lack of samples for houses under condition 1, 2, and 5. A majority of the houses comprise of condition 3 and make it difficult to observe the correlation of the other conditions."
   ]
  },
  {
   "cell_type": "markdown",
   "metadata": {},
   "source": [
    "## Geospatial Analysis"
   ]
  },
  {
   "cell_type": "markdown",
   "metadata": {},
   "source": [
    "### Initial Map Breakdown"
   ]
  },
  {
   "cell_type": "markdown",
   "metadata": {},
   "source": [
    "In this analysis, we will be looking at the location of the houses. We will be using the `lat` and `long` features to plot the location of the houses. We will identify if there are any geological patterns. Let's start by plotting a map of king county."
   ]
  },
  {
   "cell_type": "code",
   "execution_count": null,
   "metadata": {},
   "outputs": [],
   "source": [
    "# Prepare geo data\n",
    "crs = {'init':'EPSG:4326'} # Coordinate Reference System (CRS) for the data\n",
    "geometry = [Point(xy) for xy in zip(df['long'], df['lat'])]\n",
    "geo_df = gpd.GeoDataFrame(df, \n",
    "                        crs = crs, \n",
    "                        geometry = geometry)\n",
    "\n",
    "kings_county_map = gpd.read_file('king_county/2010_Census_Tracts_for_King_County_-_Conflated_to_Parcels___tracts10_area.shp')"
   ]
  },
  {
   "cell_type": "code",
   "execution_count": null,
   "metadata": {},
   "outputs": [],
   "source": [
    "# Plot to Latitude and Longitude points on the map\n",
    "fig, ax = plt.subplots(figsize=(10, 10))\n",
    "kings_county_map.to_crs(epsg=4326).plot(ax=ax, color='lightgrey')\n",
    "geo_df.plot(ax=ax, markersize=15, color='blue', marker='o', label='Houses')\n",
    "ax.set_title('King County Map')\n",
    "plt.legend(prop={'size': 10})\n",
    "plt.show()\n"
   ]
  },
  {
   "cell_type": "markdown",
   "metadata": {},
   "source": [
    "We now have an idea of where the houses sold are plotted across King County. It seems that most houses are situated to the left of King County. It is also quite densely packed. There are quite a lot of houses spread out towards the left and bottom, we need to consider the water bodies in the area. We will now mark the houses that are near the water bodies based on the `waterfront` feature."
   ]
  },
  {
   "cell_type": "code",
   "execution_count": null,
   "metadata": {},
   "outputs": [],
   "source": [
    "# Get houses with `waterfront`` value of 1\n",
    "waterfront = df[df['waterfront'] == 1]\n",
    "\n",
    "waterfront_geometry = [Point(xy) for xy in zip(waterfront['long'], waterfront['lat'])]\n",
    "waterfront_df = gpd.GeoDataFrame(waterfront,\n",
    "                                crs = crs,\n",
    "                                geometry = waterfront_geometry)"
   ]
  },
  {
   "cell_type": "code",
   "execution_count": null,
   "metadata": {},
   "outputs": [],
   "source": [
    "# Plot the `waterfront` houses on the map\n",
    "fig, ax = plt.subplots(figsize=(10, 10))\n",
    "kings_county_map.to_crs(epsg=4326).plot(ax=ax, color='lightgrey')\n",
    "waterfront_df.plot(ax=ax, markersize=15, color='blue', marker='o', label='Waterfront Houses')\n",
    "ax.set_title('King County Map')\n",
    "plt.legend(prop={'size': 10})\n",
    "plt.show()\n",
    "\n",
    "# Get number of houses with `waterfront` value of 1 and 0\n",
    "waterfront_value_counts = df['waterfront'].value_counts()\n",
    "waterfront_value_counts"
   ]
  },
  {
   "cell_type": "markdown",
   "metadata": {},
   "source": [
    "We see now that there definitely are rivers at the left side of the map. We find there to be 163 houses near the water bodies."
   ]
  },
  {
   "cell_type": "markdown",
   "metadata": {},
   "source": [
    "### Condition of Houses"
   ]
  },
  {
   "cell_type": "markdown",
   "metadata": {},
   "source": [
    "After seeing the location of houses, let's see the condition of houses based on their location. We will color the houses based on their condition as well as add an alpha value to the color to see the density of houses in the area."
   ]
  },
  {
   "cell_type": "code",
   "execution_count": null,
   "metadata": {},
   "outputs": [],
   "source": [
    "# Plotting of houses based on condition colored from red to blue\n",
    "fig, ax = plt.subplots(figsize=(10, 10))\n",
    "kings_county_map.to_crs(epsg=4326).plot(ax=ax, color='lightgrey')\n",
    "geo_df[geo_df['condition'] == 1].plot(ax=ax, markersize=30, color='red', marker='o', label='1', alpha=1)\n",
    "geo_df[geo_df['condition'] == 2].plot(ax=ax, markersize=30, color='orange', marker='o', label='2', alpha=0.7)\n",
    "geo_df[geo_df['condition'] == 3].plot(ax=ax, markersize=10, color='yellow', marker='o', label='3', alpha=0.1)\n",
    "geo_df[geo_df['condition'] == 4].plot(ax=ax, markersize=10, color='green', marker='o', label='4', alpha=0.1)\n",
    "geo_df[geo_df['condition'] == 5].plot(ax=ax, markersize=5, color='blue', marker='o', label='5', alpha=0.1)\n",
    "ax.set_title('King County Map')\n",
    "plt.legend(prop={'size': 10})\n",
    "plt.show()"
   ]
  },
  {
   "cell_type": "markdown",
   "metadata": {},
   "source": [
    "The color and sizes of the houses conditions that are common have been decreased while the color and size for the ones that are rare are increased to improve the visualization. Due to the overhwelming number of yellows and greens, let's remove them in the next plot below."
   ]
  },
  {
   "cell_type": "code",
   "execution_count": null,
   "metadata": {},
   "outputs": [],
   "source": [
    "# Plotting of houses based on condition colored from red to blue\n",
    "fig, ax = plt.subplots(figsize=(10, 10))\n",
    "kings_county_map.to_crs(epsg=4326).plot(ax=ax, color='lightgrey')\n",
    "geo_df[geo_df['condition'] == 1].plot(ax=ax, markersize=30, color='red', marker='o', label='1', alpha=1)\n",
    "geo_df[geo_df['condition'] == 2].plot(ax=ax, markersize=30, color='orange', marker='o', label='2', alpha=0.7)\n",
    "geo_df[geo_df['condition'] == 5].plot(ax=ax, markersize=5, color='blue', marker='o', label='5', alpha=0.1)\n",
    "ax.set_title('King County Map')\n",
    "plt.legend(prop={'size': 10})\n",
    "plt.show()"
   ]
  },
  {
   "cell_type": "markdown",
   "metadata": {},
   "source": [
    "Now it appears that the middle of king county has a huge variety of house conditions as a good majority of the poor conditioned houses are situated there. However, the houses that are in good condition are also situated there.\n",
    "\n",
    "It can also be observed that the farther right you go, the lower the condition of the houses go as well. This may be due to the fact that the houses are farther away from the city center.\n",
    "\n",
    "When it came to houses at the top left, it appears that the houses are in good condition. This could be due to the fact that the houses are near the water bodies. This may be a factor in determining the condition of a house."
   ]
  },
  {
   "cell_type": "code",
   "execution_count": null,
   "metadata": {},
   "outputs": [],
   "source": [
    "# Plotting of houses based on condition colored from red to blue\n",
    "fig, ax = plt.subplots(figsize=(10, 10))\n",
    "kings_county_map.to_crs(epsg=4326).plot(ax=ax, color='lightgrey')\n",
    "geo_df[geo_df['condition'] == 4].plot(ax=ax, markersize=10, color='green', marker='o', label='4', alpha=0.1)\n",
    "geo_df[geo_df['condition'] == 5].plot(ax=ax, markersize=5, color='blue', marker='o', label='5', alpha=0.1)\n",
    "ax.set_title('King County Map')\n",
    "plt.legend(prop={'size': 10})\n",
    "plt.show()"
   ]
  },
  {
   "cell_type": "markdown",
   "metadata": {},
   "source": [
    "Upon further observation, we could confirm that the top left is where most of the well conditioned houses are located."
   ]
  },
  {
   "cell_type": "markdown",
   "metadata": {},
   "source": [
    "### Zipcode heatmap"
   ]
  },
  {
   "cell_type": "markdown",
   "metadata": {},
   "source": [
    "After looking at basic latitude and longitude of houses, let's look at the zipcode of houses. We will be using the `zipcode` feature to provide the heatmap of the houses while still using the `lat` and `long` features to plot the location of the houses."
   ]
  },
  {
   "cell_type": "code",
   "execution_count": null,
   "metadata": {},
   "outputs": [],
   "source": [
    "# Plot houses based on `lat` and `long` with `zipcode` as the color\n",
    "fig, ax = plt.subplots(figsize=(10, 10))\n",
    "kings_county_map.to_crs(epsg=4326).plot(ax=ax, color='whitesmoke')\n",
    "geo_df.plot(ax=ax, markersize=15, column='zipcode', legend=False,\n",
    "            cmap='tab20', marker='o', label='Houses')\n",
    "ax.set_title('King County Map')\n",
    "plt.legend(prop={'size': 10})\n",
    "plt.show()"
   ]
  },
  {
   "cell_type": "markdown",
   "metadata": {},
   "source": [
    "We now have an idea of what the zipcode segregation of houses are. Let's further analyze the zipcode of houses by looking at the condition of houses based on their zipcode. We will color the houses based on their zipcode and size them based on condition, as well as add an alpha value to the color to see the density of houses in the area."
   ]
  },
  {
   "cell_type": "code",
   "execution_count": null,
   "metadata": {},
   "outputs": [],
   "source": [
    "# Plot houses based on `lat` and `long` with `zipcode` as the color with alpha as the condition\n",
    "fig, ax = plt.subplots(figsize=(10, 10))\n",
    "kings_county_map.to_crs(epsg=4326).plot(ax=ax, color='whitesmoke')\n",
    "geo_df.plot(ax=ax, column='zipcode', legend=False,\n",
    "            cmap='tab20', marker='o', label='Houses', markersize=geo_df['condition']*2, alpha=0.1)\n",
    "ax.set_title('King County Map')\n",
    "plt.legend(prop={'size': 10})\n",
    "plt.show()"
   ]
  },
  {
   "cell_type": "markdown",
   "metadata": {},
   "source": [
    "It becomes further apparent that the houses at the top left have a good condition. The houses at the bottom left however, have a poor condition. They also are near water bodies so it may not be a factor in determining the condition of a house."
   ]
  },
  {
   "cell_type": "markdown",
   "metadata": {},
   "source": [
    "### Findings"
   ]
  },
  {
   "cell_type": "markdown",
   "metadata": {},
   "source": [
    "In summary,the following are the findings of the geospatial analysis:\n",
    "- Most houses are situated to the left of King County.\n",
    "- There are quite a lot of houses spread out towards the left and bottom, we need to consider the water bodies in the area.\n",
    "- There are 163 houses near the water bodies.\n",
    "- The middle of king county has a huge variety of house conditions as a good majority of the poor conditioned houses are situated there. However, the houses that are in good condition are also situated there.\n",
    "- The farther right you go, the lower the condition of the houses go as well. This may be due to the fact that the houses are farther away from the city center.\n",
    "- The top left is where most of the well conditioned houses are located.\n",
    "- The houses at the top left have a good condition. The houses at the bottom left however, have a poor condition. They also are near water bodies so it may not be a factor in determining the condition of a house."
   ]
  },
  {
   "cell_type": "markdown",
   "metadata": {},
   "source": [
    "## Cross-Feature Relationships"
   ]
  },
  {
   "cell_type": "code",
   "execution_count": null,
   "metadata": {},
   "outputs": [],
   "source": [
    "# Drop one hot encoded columns\n",
    "corr_df = df.drop(['day_of_week_sold_0', \n",
    "    'day_of_week_sold_1', \n",
    "    'day_of_week_sold_2', \n",
    "    'day_of_week_sold_3', \n",
    "    'day_of_week_sold_4', \n",
    "    'day_of_week_sold_5', \n",
    "    'day_of_week_sold_6'], \n",
    "    axis=1)\n",
    "\n",
    "# Plot heatmap of features\n",
    "plt.figure(figsize=(20, 10))\n",
    "sns.heatmap(corr_df.corr(), annot=True, cmap='viridis')\n",
    "plt.title('Correlation of Features')\n",
    "plt.show()"
   ]
  },
  {
   "cell_type": "code",
   "execution_count": null,
   "metadata": {},
   "outputs": [],
   "source": [
    "# Get the top N correlations without duplicates\n",
    "N = 25\n",
    "corr = corr_df.corr().abs()\n",
    "upper_triangle = corr.where(np.triu(np.ones(corr.shape), k=1).astype(bool))\n",
    "top_corr = upper_triangle.unstack().sort_values(ascending=False).head(N)\n",
    "\n",
    "print(\"Top\", N, \"Correlations:\")\n",
    "print(top_corr)"
   ]
  },
  {
   "cell_type": "markdown",
   "metadata": {},
   "source": [
    "### Findings"
   ]
  },
  {
   "cell_type": "markdown",
   "metadata": {},
   "source": [
    "In summary, the following are the findings of the cross-feature relationships analysis:\n",
    "- `sqft_above` and `sqft_living` have the highest feature correlation with eachother, having a value of `0.88`. This suggests that when above-ground square footage increases, the overall living space also tends to increase proportionally.\n",
    "- The least correlated features are `year_sold` and `month_sold` with a value of `-0.78`."
   ]
  },
  {
   "cell_type": "code",
   "execution_count": null,
   "metadata": {},
   "outputs": [],
   "source": []
  },
  {
   "cell_type": "markdown",
   "metadata": {},
   "source": [
    "## Outlier Detection"
   ]
  },
  {
   "cell_type": "markdown",
   "metadata": {},
   "source": [
    "Understanding the outliers of the dataset that could affect the house attributes are important to detect. Here we'll be looking at `sqft_living`, `sqft_lot`, `sqft_above`, and `sqft_basement` and see how they are visualized against house conditions."
   ]
  },
  {
   "cell_type": "code",
   "execution_count": null,
   "metadata": {},
   "outputs": [],
   "source": [
    "# Specify the columns for outlier detection\n",
    "columns_of_interest = ['sqft_living', 'sqft_lot', 'sqft_above', 'sqft_basement']\n",
    "\n",
    "# Set up a 2x2 grid for subplots\n",
    "fig, axes = plt.subplots(nrows=2, ncols=2, figsize=(12, 8))\n",
    "\n",
    "# Flatten the axes array for easier indexing\n",
    "axes = axes.flatten()\n",
    "\n",
    "outliers_count = {}\n",
    "\n",
    "\n",
    "# Loop over the columns of interest\n",
    "for i, column in enumerate(columns_of_interest):\n",
    "    # Isolation Forest\n",
    "    iso_forest = IsolationForest(contamination=0.0005)\n",
    "    outliers_iso = iso_forest.fit_predict(df[[column]])\n",
    "    outliers_iso = df[outliers_iso == -1]\n",
    "    outliers_count[column] = len(outliers_iso)\n",
    "\n",
    "    # Plot the outliers\n",
    "    axes[i].scatter(df[column], df['condition'], label='Normal')\n",
    "    axes[i].scatter(outliers_iso[column], outliers_iso['condition'], color='red', label='Outliers')\n",
    "    axes[i].set_title(f'Outliers of {column}')\n",
    "    axes[i].set_xlabel(column)\n",
    "    axes[i].set_ylabel('Condition')\n",
    "    axes[i].legend()\n",
    "\n",
    "# Adjust layout to prevent overlapping\n",
    "plt.tight_layout()\n",
    "plt.show()\n",
    "\n",
    "# Print the number of outliers for each column\n",
    "for column, count in outliers_count.items():\n",
    "    print(f\"Number of outliers in {column}: {count}\")\n"
   ]
  },
  {
   "cell_type": "markdown",
   "metadata": {},
   "source": [
    "Taking a look at the outliers of these numerical attributes of the houses could help determine for extreme cases that could contribute to noise that the models will encounter. Understanding and interpreting its importance will help determine if they're worth to remove or kept.\n",
    "\n",
    "From the plots above, we can see that there are a small number of outliers. Most of the outliers come from condition `3` due to the nature that most houses in the dataset have average conditions. Despite large square feets, some are still in average condition.\n",
    "\n",
    "Since the data is real world data, considering outliers are still useful for analysis and interpretation since there are valid characteristics of houses that could be difficult to maintain a better condition due to its larger size. This shows that larger sizes of the houses' areas don't necesarilly mean that they have better or worse conditions. Keeping these kinds of outliers could help the model understand these nuances of how size can affect the conditions, whether a house is easy to maintain upkeep for example. "
   ]
  },
  {
   "cell_type": "markdown",
   "metadata": {},
   "source": [
    "### Findings"
   ]
  },
  {
   "cell_type": "markdown",
   "metadata": {},
   "source": [
    "In summary,the following are the findings of the outlier detection:\n",
    "- Since most houses fall under the average condition, the most of the outliers are also in average condition.\n",
    "- `sqft_living` and `sqft_lot` has the most outliers (11 outliers)\n",
    "- House with larger the square feet sizes have average condition. This could be due to difficulty in maintenance.\n",
    "- Outliers will still be kept due to the possible interpretation they provide that larger sizes do not always correlate to a better or worse condition."
   ]
  },
  {
   "cell_type": "markdown",
   "metadata": {},
   "source": [
    "## Conclusion of EDA Findings"
   ]
  },
  {
   "cell_type": "markdown",
   "metadata": {},
   "source": [
    "The exploratory data analysis (EDA) of the dataset reveals a lot of valuable insights into the characteristics and distribution of houses in King County. \n",
    "\n",
    "The EDA explored the visualizations of the features, the class distribution, correlation and geosplatial analysis, the cross-feature relationships, as well as the outliers. These were essential in determining patterns and nuances of our dataset, leading to better interpretation of the models.\n",
    "\n",
    "From our findings, most houses are observed to be in average condition, reflecting a predominant grade of 7 for construction and design. Renovations are relatively infrequent, and the majority of houses cater to families with three bedrooms and two bathrooms. Notably, there's a common trend of a significant portion of the lot going unused, particularly in larger lots. In this way, we are able to understand the real estate ecosystem of King County's housing market.\n",
    "\n",
    "The geospatial analysis highlights distinct patterns in house conditions across different regions of King County, emphasizing the influence of location. Cross-feature relationships reveal strong correlations between `sqft_above` and `sqft_living`, while `year_sold` and `month_sold` exhibit minimal correlation. From the high correlation, its a possibility that larger houses typically have more above-ground living space. \n",
    "\n",
    "Lastly, in outlier detection, it is crucial for model robustness as it indicates that most outliers align with the overall distribution, with larger sizes not necessarily correlating with better or worse conditions. The findings underscore the complexity and diversity within the dataset, emphasizing the need for nuanced interpretations in predicting house conditions."
   ]
  },
  {
   "cell_type": "markdown",
   "metadata": {},
   "source": [
    "# Section 6. Model Training"
   ]
  },
  {
   "cell_type": "markdown",
   "metadata": {},
   "source": [
    "### Initial Preprocessing Before Training"
   ]
  },
  {
   "cell_type": "markdown",
   "metadata": {},
   "source": [
    "Since we are finished with our EDA, we can now drop the `date` column as well as the `id` column."
   ]
  },
  {
   "cell_type": "code",
   "execution_count": 19,
   "metadata": {},
   "outputs": [],
   "source": [
    "df = df.drop(['date', 'id'], axis=1)"
   ]
  },
  {
   "cell_type": "markdown",
   "metadata": {},
   "source": [
    "In our approach to modeling the `house_prices.csv` dataset, we've identified several key preprocessing steps to ensure optimal model performance. During the exploratory data analysis (EDA), we noted that the dataset exhibits a significant imbalance in the distribution of the 'condition' classes, our target variable. Such an imbalance can lead to a model that disproportionately favors the majority class, leading to poor performance on minority classes."
   ]
  },
  {
   "cell_type": "markdown",
   "metadata": {},
   "source": [
    "To address this, our first step will be to employ the `stratify` parameter in `train_test_split` from Scikit-learn. This will ensure that the distribution of classes in both the training and testing sets mirrors that of the overall dataset, allowing for a more balanced and representative model evaluation."
   ]
  },
  {
   "cell_type": "code",
   "execution_count": 20,
   "metadata": {},
   "outputs": [],
   "source": [
    "X = df.drop(['condition'], axis=1)\n",
    "y = df['condition']\n",
    "\n",
    "X_train, X_test, y_train, y_test = train_test_split(X, y, test_size=0.2, random_state=SEED, stratify=y)"
   ]
  },
  {
   "cell_type": "markdown",
   "metadata": {},
   "source": [
    "Furthermore, considering the diverse range of feature scales in our dataset, such as the price and the number of bedrooms, we recognize the importance of feature scaling."
   ]
  },
  {
   "cell_type": "markdown",
   "metadata": {},
   "source": [
    "To counter this, we will implement scaling using `StandardScaler` from Scikit-learn. This will standardize our features to have a mean of zero and a unit variance, ensuring that all features contribute equally to the model's training process."
   ]
  },
  {
   "cell_type": "code",
   "execution_count": 21,
   "metadata": {},
   "outputs": [
    {
     "name": "stderr",
     "output_type": "stream",
     "text": [
      "C:\\Users\\Clyla\\AppData\\Roaming\\Python\\Python310\\site-packages\\sklearn\\utils\\validation.py:757: FutureWarning: is_sparse is deprecated and will be removed in a future version. Check `isinstance(dtype, pd.SparseDtype)` instead.\n",
      "  if not hasattr(array, \"sparse\") and array.dtypes.apply(is_sparse).any():\n",
      "C:\\Users\\Clyla\\AppData\\Roaming\\Python\\Python310\\site-packages\\sklearn\\utils\\validation.py:595: FutureWarning: is_sparse is deprecated and will be removed in a future version. Check `isinstance(dtype, pd.SparseDtype)` instead.\n",
      "  if is_sparse(pd_dtype):\n",
      "C:\\Users\\Clyla\\AppData\\Roaming\\Python\\Python310\\site-packages\\sklearn\\utils\\validation.py:604: FutureWarning: is_sparse is deprecated and will be removed in a future version. Check `isinstance(dtype, pd.SparseDtype)` instead.\n",
      "  if is_sparse(pd_dtype) or not is_extension_array_dtype(pd_dtype):\n",
      "C:\\Users\\Clyla\\AppData\\Roaming\\Python\\Python310\\site-packages\\sklearn\\utils\\validation.py:757: FutureWarning: is_sparse is deprecated and will be removed in a future version. Check `isinstance(dtype, pd.SparseDtype)` instead.\n",
      "  if not hasattr(array, \"sparse\") and array.dtypes.apply(is_sparse).any():\n",
      "C:\\Users\\Clyla\\AppData\\Roaming\\Python\\Python310\\site-packages\\sklearn\\utils\\validation.py:595: FutureWarning: is_sparse is deprecated and will be removed in a future version. Check `isinstance(dtype, pd.SparseDtype)` instead.\n",
      "  if is_sparse(pd_dtype):\n",
      "C:\\Users\\Clyla\\AppData\\Roaming\\Python\\Python310\\site-packages\\sklearn\\utils\\validation.py:604: FutureWarning: is_sparse is deprecated and will be removed in a future version. Check `isinstance(dtype, pd.SparseDtype)` instead.\n",
      "  if is_sparse(pd_dtype) or not is_extension_array_dtype(pd_dtype):\n",
      "C:\\Users\\Clyla\\AppData\\Roaming\\Python\\Python310\\site-packages\\sklearn\\utils\\validation.py:757: FutureWarning: is_sparse is deprecated and will be removed in a future version. Check `isinstance(dtype, pd.SparseDtype)` instead.\n",
      "  if not hasattr(array, \"sparse\") and array.dtypes.apply(is_sparse).any():\n",
      "C:\\Users\\Clyla\\AppData\\Roaming\\Python\\Python310\\site-packages\\sklearn\\utils\\validation.py:595: FutureWarning: is_sparse is deprecated and will be removed in a future version. Check `isinstance(dtype, pd.SparseDtype)` instead.\n",
      "  if is_sparse(pd_dtype):\n",
      "C:\\Users\\Clyla\\AppData\\Roaming\\Python\\Python310\\site-packages\\sklearn\\utils\\validation.py:604: FutureWarning: is_sparse is deprecated and will be removed in a future version. Check `isinstance(dtype, pd.SparseDtype)` instead.\n",
      "  if is_sparse(pd_dtype) or not is_extension_array_dtype(pd_dtype):\n"
     ]
    }
   ],
   "source": [
    "scaler = StandardScaler()\n",
    "X_train_scaled = scaler.fit_transform(X_train)\n",
    "X_test_scaled = scaler.transform(X_test)"
   ]
  },
  {
   "cell_type": "markdown",
   "metadata": {},
   "source": [
    "In the next steps, we will be following the standard procedures for model training. We will provide hyperparameters we deem to be optimal as a start for the models, and then evaluate the performance of the models. The evaluation will also include the learning and testing error of each model to see if there is any overfitting or underfitting."
   ]
  },
  {
   "cell_type": "markdown",
   "metadata": {},
   "source": [
    "## Logistic Regression Model"
   ]
  },
  {
   "cell_type": "code",
   "execution_count": null,
   "metadata": {},
   "outputs": [],
   "source": [
    "lr_model = LogisticRegression(\n",
    "    random_state=SEED, \n",
    "    max_iter=1000\n",
    ")"
   ]
  },
  {
   "cell_type": "markdown",
   "metadata": {},
   "source": [
    "#### Model Training"
   ]
  },
  {
   "cell_type": "code",
   "execution_count": null,
   "metadata": {},
   "outputs": [],
   "source": [
    "lr_model.fit(X_train_scaled, y_train)"
   ]
  },
  {
   "cell_type": "markdown",
   "metadata": {},
   "source": [
    "#### Learning Curve"
   ]
  },
  {
   "cell_type": "code",
   "execution_count": null,
   "metadata": {},
   "outputs": [],
   "source": [
    "# Plot the learning curve of the model\n",
    "train_sizes, train_scores, val_scores = learning_curve(lr_model, X_train_scaled, y_train, cv=5, scoring='accuracy')\n",
    "\n",
    "# Calculate mean and standard deviation of training and validation scores\n",
    "train_scores_mean = np.mean(train_scores, axis=1)\n",
    "train_scores_std = np.std(train_scores, axis=1)\n",
    "val_scores_mean = np.mean(val_scores, axis=1)\n",
    "val_scores_std = np.std(val_scores, axis=1)\n",
    "\n",
    "# Plot learning curves\n",
    "plt.figure(figsize=(10, 6))\n",
    "plt.plot(train_sizes, train_scores_mean, label='Training Score', color='blue')\n",
    "plt.fill_between(train_sizes, train_scores_mean - train_scores_std, train_scores_mean + train_scores_std, alpha=0.2, color='blue')\n",
    "\n",
    "plt.plot(train_sizes, val_scores_mean, label='Validation Score', color='red')\n",
    "plt.fill_between(train_sizes, val_scores_mean - val_scores_std, val_scores_mean + val_scores_std, alpha=0.2, color='red')\n",
    "\n",
    "plt.xlabel('Training Set Size')\n",
    "plt.ylabel('Accuracy')\n",
    "plt.title('Learning Curve')\n",
    "plt.legend()\n",
    "plt.show()"
   ]
  },
  {
   "cell_type": "markdown",
   "metadata": {},
   "source": [
    "#### Model Evaluation"
   ]
  },
  {
   "cell_type": "code",
   "execution_count": null,
   "metadata": {},
   "outputs": [],
   "source": [
    "# Make predictions\n",
    "train_predictions = lr_model.predict(X_train_scaled)\n",
    "test_predictions = lr_model.predict(X_test_scaled)\n",
    "\n",
    "# Calculate errors\n",
    "train_error = 1 - accuracy_score(y_train, train_predictions)\n",
    "test_error = 1 - accuracy_score(y_test, test_predictions)\n",
    "\n",
    "# Print errors\n",
    "print(f\"Training Error: {train_error * 100:.2f}%\")\n",
    "print(f\"Test Error: {test_error * 100:.2f}%\")"
   ]
  },
  {
   "cell_type": "code",
   "execution_count": null,
   "metadata": {},
   "outputs": [],
   "source": [
    "y_test_pred = lr_model.predict(X_test_scaled)"
   ]
  },
  {
   "cell_type": "code",
   "execution_count": null,
   "metadata": {},
   "outputs": [],
   "source": [
    "# Evaluate the model on the test set\n",
    "accuracy_test = accuracy_score(y_test, y_test_pred)\n",
    "precision_test = precision_score(y_test, y_test_pred, average='weighted')\n",
    "recall_test = recall_score(y_test, y_test_pred, average='weighted')\n",
    "f1_test = f1_score(y_test, y_test_pred, average='weighted')\n",
    "\n",
    "# Print or log the evaluation metrics for the test set\n",
    "print(f'Test Accuracy: {accuracy_test:.4f}')\n",
    "print(f'Test Precision: {precision_test:.4f}')\n",
    "print(f'Test Recall: {recall_test:.4f}')\n",
    "print(f'Test F1 Score: {f1_test:.4f}')"
   ]
  },
  {
   "cell_type": "code",
   "execution_count": null,
   "metadata": {},
   "outputs": [],
   "source": [
    "# Confusion Matrix and Classification Report\n",
    "print(confusion_matrix(y_test, y_test_pred))\n",
    "print(classification_report(y_test, y_test_pred))"
   ]
  },
  {
   "cell_type": "markdown",
   "metadata": {},
   "source": [
    "#### Findings"
   ]
  },
  {
   "cell_type": "markdown",
   "metadata": {},
   "source": [
    "We can observe ..."
   ]
  },
  {
   "cell_type": "markdown",
   "metadata": {},
   "source": [
    "## Naïve Bayes Model"
   ]
  },
  {
   "cell_type": "code",
   "execution_count": null,
   "metadata": {},
   "outputs": [],
   "source": [
    "# The second model we will try is Gaussian Naive Bayes. We chose this model because \n",
    "nb_model = GaussianNB()"
   ]
  },
  {
   "cell_type": "markdown",
   "metadata": {},
   "source": [
    "#### Model Training"
   ]
  },
  {
   "cell_type": "code",
   "execution_count": null,
   "metadata": {},
   "outputs": [],
   "source": [
    "nb_model.fit(X_train, y_train)"
   ]
  },
  {
   "cell_type": "markdown",
   "metadata": {},
   "source": [
    "#### Learning Curve"
   ]
  },
  {
   "cell_type": "code",
   "execution_count": null,
   "metadata": {},
   "outputs": [],
   "source": [
    "# Plot the learning curve of the model\n",
    "train_sizes, train_scores, val_scores = learning_curve(nb_model, X_train, y_train, cv=5, scoring='accuracy')\n",
    "\n",
    "# Calculate mean and standard deviation of training and validation scores\n",
    "train_scores_mean = np.mean(train_scores, axis=1)\n",
    "train_scores_std = np.std(train_scores, axis=1)\n",
    "val_scores_mean = np.mean(val_scores, axis=1)\n",
    "val_scores_std = np.std(val_scores, axis=1)\n",
    "\n",
    "# Plot learning curves\n",
    "plt.figure(figsize=(10, 6))\n",
    "plt.plot(train_sizes, train_scores_mean, label='Training Score', color='blue')\n",
    "plt.fill_between(train_sizes, train_scores_mean - train_scores_std, train_scores_mean + train_scores_std, alpha=0.2, color='blue')\n",
    "\n",
    "plt.plot(train_sizes, val_scores_mean, label='Validation Score', color='red')\n",
    "plt.fill_between(train_sizes, val_scores_mean - val_scores_std, val_scores_mean + val_scores_std, alpha=0.2, color='red')\n",
    "\n",
    "plt.xlabel('Training Set Size')\n",
    "plt.ylabel('Accuracy')\n",
    "plt.title('Learning Curve')\n",
    "plt.legend()\n",
    "plt.show()"
   ]
  },
  {
   "cell_type": "markdown",
   "metadata": {},
   "source": [
    "#### Model Evaluation"
   ]
  },
  {
   "cell_type": "code",
   "execution_count": null,
   "metadata": {},
   "outputs": [],
   "source": [
    "# Make predictions\n",
    "train_predictions = nb_model.predict(X_train)\n",
    "test_predictions = nb_model.predict(X_test)\n",
    "\n",
    "# Calculate errors\n",
    "train_error = 1 - accuracy_score(y_train, train_predictions)\n",
    "test_error = 1 - accuracy_score(y_test, test_predictions)\n",
    "\n",
    "# Print errors\n",
    "print(f\"Training Error: {train_error * 100:.2f}%\")\n",
    "print(f\"Test Error: {test_error * 100:.2f}%\")"
   ]
  },
  {
   "cell_type": "code",
   "execution_count": null,
   "metadata": {},
   "outputs": [],
   "source": [
    "y_test_pred = nb_model.predict(X_test)"
   ]
  },
  {
   "cell_type": "code",
   "execution_count": null,
   "metadata": {},
   "outputs": [],
   "source": [
    "# Evaluate the model on the test set\n",
    "accuracy_test = accuracy_score(y_test, y_test_pred)\n",
    "precision_test = precision_score(y_test, y_test_pred, average='weighted')\n",
    "recall_test = recall_score(y_test, y_test_pred, average='weighted')\n",
    "f1_test = f1_score(y_test, y_test_pred, average='weighted')\n",
    "\n",
    "# Print or log the evaluation metrics for the test set\n",
    "print(f'Test Accuracy: {accuracy_test:.4f}')\n",
    "print(f'Test Precision: {precision_test:.4f}')\n",
    "print(f'Test Recall: {recall_test:.4f}')\n",
    "print(f'Test F1 Score: {f1_test:.4f}')"
   ]
  },
  {
   "cell_type": "code",
   "execution_count": null,
   "metadata": {},
   "outputs": [],
   "source": [
    "# Confusion Matrix and Classification Report\n",
    "confusion_matrix(y_test, y_test_pred)\n",
    "pd.crosstab(y_test, y_test_pred, rownames = ['Actual'], colnames =['Predicted'], margins = True)"
   ]
  },
  {
   "cell_type": "code",
   "execution_count": null,
   "metadata": {},
   "outputs": [],
   "source": [
    "print(classification_report(y_test, y_test_pred))"
   ]
  },
  {
   "cell_type": "markdown",
   "metadata": {},
   "source": [
    "#### Findings"
   ]
  },
  {
   "cell_type": "markdown",
   "metadata": {},
   "source": [
    "We can observe ..."
   ]
  },
  {
   "cell_type": "markdown",
   "metadata": {},
   "source": [
    "## Random Forest Model"
   ]
  },
  {
   "cell_type": "markdown",
   "metadata": {},
   "source": [
    "The third model we will be using is the `Random Forest Model`. This model is an ensemble learning method for classification and regression. It operates by constructing a multitude of decision trees at training time and outputting the class that is the mode of the classes or mean prediction of the individual trees. It is known to be the most accurate model for classification problems. Since we're trying to classify houses based on their condition, we will be using this model."
   ]
  },
  {
   "cell_type": "code",
   "execution_count": 22,
   "metadata": {},
   "outputs": [],
   "source": [
    "rf_model = RandomForestClassifier(\n",
    "    n_estimators= 100,\n",
    "    max_depth= 10,\n",
    "    max_features= 'sqrt',\n",
    "    max_leaf_nodes= None,\n",
    "    max_samples= None,\n",
    "    min_samples_split= 2,\n",
    "    bootstrap= True,\n",
    ")"
   ]
  },
  {
   "cell_type": "code",
   "execution_count": 23,
   "metadata": {},
   "outputs": [
    {
     "data": {
      "text/html": [
       "<style>#sk-container-id-1 {color: black;background-color: white;}#sk-container-id-1 pre{padding: 0;}#sk-container-id-1 div.sk-toggleable {background-color: white;}#sk-container-id-1 label.sk-toggleable__label {cursor: pointer;display: block;width: 100%;margin-bottom: 0;padding: 0.3em;box-sizing: border-box;text-align: center;}#sk-container-id-1 label.sk-toggleable__label-arrow:before {content: \"▸\";float: left;margin-right: 0.25em;color: #696969;}#sk-container-id-1 label.sk-toggleable__label-arrow:hover:before {color: black;}#sk-container-id-1 div.sk-estimator:hover label.sk-toggleable__label-arrow:before {color: black;}#sk-container-id-1 div.sk-toggleable__content {max-height: 0;max-width: 0;overflow: hidden;text-align: left;background-color: #f0f8ff;}#sk-container-id-1 div.sk-toggleable__content pre {margin: 0.2em;color: black;border-radius: 0.25em;background-color: #f0f8ff;}#sk-container-id-1 input.sk-toggleable__control:checked~div.sk-toggleable__content {max-height: 200px;max-width: 100%;overflow: auto;}#sk-container-id-1 input.sk-toggleable__control:checked~label.sk-toggleable__label-arrow:before {content: \"▾\";}#sk-container-id-1 div.sk-estimator input.sk-toggleable__control:checked~label.sk-toggleable__label {background-color: #d4ebff;}#sk-container-id-1 div.sk-label input.sk-toggleable__control:checked~label.sk-toggleable__label {background-color: #d4ebff;}#sk-container-id-1 input.sk-hidden--visually {border: 0;clip: rect(1px 1px 1px 1px);clip: rect(1px, 1px, 1px, 1px);height: 1px;margin: -1px;overflow: hidden;padding: 0;position: absolute;width: 1px;}#sk-container-id-1 div.sk-estimator {font-family: monospace;background-color: #f0f8ff;border: 1px dotted black;border-radius: 0.25em;box-sizing: border-box;margin-bottom: 0.5em;}#sk-container-id-1 div.sk-estimator:hover {background-color: #d4ebff;}#sk-container-id-1 div.sk-parallel-item::after {content: \"\";width: 100%;border-bottom: 1px solid gray;flex-grow: 1;}#sk-container-id-1 div.sk-label:hover label.sk-toggleable__label {background-color: #d4ebff;}#sk-container-id-1 div.sk-serial::before {content: \"\";position: absolute;border-left: 1px solid gray;box-sizing: border-box;top: 0;bottom: 0;left: 50%;z-index: 0;}#sk-container-id-1 div.sk-serial {display: flex;flex-direction: column;align-items: center;background-color: white;padding-right: 0.2em;padding-left: 0.2em;position: relative;}#sk-container-id-1 div.sk-item {position: relative;z-index: 1;}#sk-container-id-1 div.sk-parallel {display: flex;align-items: stretch;justify-content: center;background-color: white;position: relative;}#sk-container-id-1 div.sk-item::before, #sk-container-id-1 div.sk-parallel-item::before {content: \"\";position: absolute;border-left: 1px solid gray;box-sizing: border-box;top: 0;bottom: 0;left: 50%;z-index: -1;}#sk-container-id-1 div.sk-parallel-item {display: flex;flex-direction: column;z-index: 1;position: relative;background-color: white;}#sk-container-id-1 div.sk-parallel-item:first-child::after {align-self: flex-end;width: 50%;}#sk-container-id-1 div.sk-parallel-item:last-child::after {align-self: flex-start;width: 50%;}#sk-container-id-1 div.sk-parallel-item:only-child::after {width: 0;}#sk-container-id-1 div.sk-dashed-wrapped {border: 1px dashed gray;margin: 0 0.4em 0.5em 0.4em;box-sizing: border-box;padding-bottom: 0.4em;background-color: white;}#sk-container-id-1 div.sk-label label {font-family: monospace;font-weight: bold;display: inline-block;line-height: 1.2em;}#sk-container-id-1 div.sk-label-container {text-align: center;}#sk-container-id-1 div.sk-container {/* jupyter's `normalize.less` sets `[hidden] { display: none; }` but bootstrap.min.css set `[hidden] { display: none !important; }` so we also need the `!important` here to be able to override the default hidden behavior on the sphinx rendered scikit-learn.org. See: https://github.com/scikit-learn/scikit-learn/issues/21755 */display: inline-block !important;position: relative;}#sk-container-id-1 div.sk-text-repr-fallback {display: none;}</style><div id=\"sk-container-id-1\" class=\"sk-top-container\"><div class=\"sk-text-repr-fallback\"><pre>RandomForestClassifier(max_depth=10)</pre><b>In a Jupyter environment, please rerun this cell to show the HTML representation or trust the notebook. <br />On GitHub, the HTML representation is unable to render, please try loading this page with nbviewer.org.</b></div><div class=\"sk-container\" hidden><div class=\"sk-item\"><div class=\"sk-estimator sk-toggleable\"><input class=\"sk-toggleable__control sk-hidden--visually\" id=\"sk-estimator-id-1\" type=\"checkbox\" checked><label for=\"sk-estimator-id-1\" class=\"sk-toggleable__label sk-toggleable__label-arrow\">RandomForestClassifier</label><div class=\"sk-toggleable__content\"><pre>RandomForestClassifier(max_depth=10)</pre></div></div></div></div></div>"
      ],
      "text/plain": [
       "RandomForestClassifier(max_depth=10)"
      ]
     },
     "execution_count": 23,
     "metadata": {},
     "output_type": "execute_result"
    }
   ],
   "source": [
    "rf_model.fit(X_train_scaled, y_train)"
   ]
  },
  {
   "cell_type": "code",
   "execution_count": 24,
   "metadata": {},
   "outputs": [
    {
     "name": "stdout",
     "output_type": "stream",
     "text": [
      "Training Error: 0.2262\n",
      "Test Error: 0.2962\n"
     ]
    }
   ],
   "source": [
    "train_predictions = rf_model.predict(X_train_scaled)\n",
    "test_predictions = rf_model.predict(X_test_scaled)\n",
    "\n",
    "# Print the training and test errors\n",
    "train_error = 1 - accuracy_score(y_train, train_predictions)\n",
    "test_error = 1 - accuracy_score(y_test, test_predictions)\n",
    "\n",
    "print(f'Training Error: {train_error:.4f}')\n",
    "print(f'Test Error: {test_error:.4f}')"
   ]
  },
  {
   "cell_type": "markdown",
   "metadata": {},
   "source": [
    "#### Evaluation"
   ]
  },
  {
   "cell_type": "code",
   "execution_count": 25,
   "metadata": {},
   "outputs": [],
   "source": [
    "y_test_pred = rf_model.predict(X_test_scaled)"
   ]
  },
  {
   "cell_type": "code",
   "execution_count": 26,
   "metadata": {},
   "outputs": [
    {
     "name": "stdout",
     "output_type": "stream",
     "text": [
      "Test Accuracy: 0.7038\n",
      "Test Precision: 0.6643\n",
      "Test Recall: 0.7038\n",
      "Test F1 Score: 0.6623\n"
     ]
    },
    {
     "name": "stderr",
     "output_type": "stream",
     "text": [
      "C:\\Users\\Clyla\\AppData\\Roaming\\Python\\Python310\\site-packages\\sklearn\\metrics\\_classification.py:1327: UndefinedMetricWarning: Precision is ill-defined and being set to 0.0 in labels with no predicted samples. Use `zero_division` parameter to control this behavior.\n",
      "  _warn_prf(average, modifier, msg_start, len(result))\n"
     ]
    }
   ],
   "source": [
    "# Evaluate the model on the test set\n",
    "accuracy_test = accuracy_score(y_test, y_test_pred)\n",
    "precision_test = precision_score(y_test, y_test_pred, average='weighted')\n",
    "recall_test = recall_score(y_test, y_test_pred, average='weighted')\n",
    "f1_test = f1_score(y_test, y_test_pred, average='weighted')\n",
    "\n",
    "# Print or log the evaluation metrics for the test set\n",
    "print(f'Test Accuracy: {accuracy_test:.4f}')\n",
    "print(f'Test Precision: {precision_test:.4f}')\n",
    "print(f'Test Recall: {recall_test:.4f}')\n",
    "print(f'Test F1 Score: {f1_test:.4f}')"
   ]
  },
  {
   "cell_type": "code",
   "execution_count": 27,
   "metadata": {},
   "outputs": [
    {
     "name": "stdout",
     "output_type": "stream",
     "text": [
      "[[   0    0    5    1    0]\n",
      " [   0    0   26    7    0]\n",
      " [   0    0 2536  245    2]\n",
      " [   0    0  648  472    9]\n",
      " [   0    0  146  181   10]]\n",
      "              precision    recall  f1-score   support\n",
      "\n",
      "           1       0.00      0.00      0.00         6\n",
      "           2       0.00      0.00      0.00        33\n",
      "           3       0.75      0.91      0.83      2783\n",
      "           4       0.52      0.42      0.46      1129\n",
      "           5       0.48      0.03      0.06       337\n",
      "\n",
      "    accuracy                           0.70      4288\n",
      "   macro avg       0.35      0.27      0.27      4288\n",
      "weighted avg       0.66      0.70      0.66      4288\n",
      "\n"
     ]
    },
    {
     "name": "stderr",
     "output_type": "stream",
     "text": [
      "C:\\Users\\Clyla\\AppData\\Roaming\\Python\\Python310\\site-packages\\sklearn\\metrics\\_classification.py:1327: UndefinedMetricWarning: Precision and F-score are ill-defined and being set to 0.0 in labels with no predicted samples. Use `zero_division` parameter to control this behavior.\n",
      "  _warn_prf(average, modifier, msg_start, len(result))\n",
      "C:\\Users\\Clyla\\AppData\\Roaming\\Python\\Python310\\site-packages\\sklearn\\metrics\\_classification.py:1327: UndefinedMetricWarning: Precision and F-score are ill-defined and being set to 0.0 in labels with no predicted samples. Use `zero_division` parameter to control this behavior.\n",
      "  _warn_prf(average, modifier, msg_start, len(result))\n",
      "C:\\Users\\Clyla\\AppData\\Roaming\\Python\\Python310\\site-packages\\sklearn\\metrics\\_classification.py:1327: UndefinedMetricWarning: Precision and F-score are ill-defined and being set to 0.0 in labels with no predicted samples. Use `zero_division` parameter to control this behavior.\n",
      "  _warn_prf(average, modifier, msg_start, len(result))\n"
     ]
    }
   ],
   "source": [
    "# Confusion Matrix and Classification Report\n",
    "confusion_matrix(y_test, y_test_pred)\n",
    "pd.crosstab(y_test, y_test_pred, rownames = ['Actual'], colnames =['Predicted'], margins = True)"
   ]
  },
  {
   "cell_type": "code",
   "execution_count": null,
   "metadata": {},
   "outputs": [],
   "source": [
    "print(classification_report(y_test, y_test_pred))"
   ]
  },
  {
   "cell_type": "markdown",
   "metadata": {},
   "source": [
    "#### Findings"
   ]
  },
  {
   "cell_type": "markdown",
   "metadata": {},
   "source": [
    "The initial model exhibited a training error of 0.2262 and a test error of 0.2962. Test metrics indicated an accuracy of 0.7038, a precision of 0.6643, a recall of 0.7038, and an F1 score of 0.6623.\n",
    "\n",
    "Upon observation, condition 1 and 2 are never predicted correctly, which may affect have affected our test error. The confusion matrix highlighted challenges in predicting conditions 1 and 2, with no correct predictions observed for these rare conditions. \n",
    "\n",
    "The imbalance in the dataset, where condition 3 predominates, likely impacted the model's ability to generalize to less common conditions. The test error and model performance metrics suggested room for improvement and more tuning may be needed."
   ]
  },
  {
   "cell_type": "markdown",
   "metadata": {},
   "source": [
    "# Section 7. Hyperparameter Tuning"
   ]
  },
  {
   "cell_type": "markdown",
   "metadata": {},
   "source": [
    "## Logistic Regression Model"
   ]
  },
  {
   "cell_type": "code",
   "execution_count": null,
   "metadata": {},
   "outputs": [],
   "source": [
    "param_grid_lr = {\n",
    "    'penalty': ['l1', 'l2', 'elasticnet'],\n",
    "    'C': [1, 10, 100, 1000, 10000],\n",
    "    'solver': ['newton-cg', 'lbfgs', 'liblinear', 'sag', 'saga'],\n",
    "    'max_iter': [100, 1000, 2500, 5000, 10000],\n",
    "    'multi_class': ['auto', 'ovr', 'multinomial'],\n",
    "    'n_jobs': [-1]\n",
    "}\n",
    "\n",
    "random_search_lr = RandomizedSearchCV(\n",
    "    estimator=LogisticRegression(random_state=SEED),\n",
    "    param_distributions=param_grid_lr,\n",
    "    n_iter=50,\n",
    "    scoring='accuracy',\n",
    "    n_jobs=-1,\n",
    "    cv=5,\n",
    "    verbose=1,\n",
    "    random_state=SEED,\n",
    ")"
   ]
  },
  {
   "cell_type": "code",
   "execution_count": null,
   "metadata": {},
   "outputs": [],
   "source": [
    "random_search_lr.fit(X_train_scaled, y_train)"
   ]
  },
  {
   "cell_type": "code",
   "execution_count": null,
   "metadata": {},
   "outputs": [],
   "source": [
    "best_model = random_search_lr.best_estimator_\n",
    "\n",
    "# Print the best model parameters\n",
    "print(f'Best Model Parameters:\\n{random_search_lr.best_params_}\\n')"
   ]
  },
  {
   "cell_type": "code",
   "execution_count": null,
   "metadata": {},
   "outputs": [],
   "source": [
    "tuned_lr_model = LogisticRegression(\n",
    "    C=10,\n",
    "    max_iter=2500,\n",
    "    multi_class='auto',\n",
    "    n_jobs=-1,\n",
    "    penalty='l1',\n",
    "    random_state=SEED,\n",
    "    solver='saga'\n",
    ")\n",
    "\n",
    "tuned_lr_model.fit(X_train_scaled, y_train)"
   ]
  },
  {
   "cell_type": "code",
   "execution_count": null,
   "metadata": {},
   "outputs": [],
   "source": [
    "# Evaluate the model on the test set\n",
    "y_test_pred = tuned_lr_model.predict(X_test_scaled)\n",
    "\n",
    "accuracy_test = accuracy_score(y_test, y_test_pred)\n",
    "precision_test = precision_score(y_test, y_test_pred, average='weighted')\n",
    "recall_test = recall_score(y_test, y_test_pred, average='weighted')\n",
    "f1_test = f1_score(y_test, y_test_pred, average='weighted')\n",
    "\n",
    "# Print or log the evaluation metrics for the test set\n",
    "print(f'Test Accuracy: {accuracy_test:.4f}')\n",
    "print(f'Test Precision: {precision_test:.4f}')\n",
    "print(f'Test Recall: {recall_test:.4f}')\n",
    "print(f'Test F1 Score: {f1_test:.4f}')"
   ]
  },
  {
   "cell_type": "code",
   "execution_count": null,
   "metadata": {},
   "outputs": [],
   "source": [
    "train_predictions = tuned_lr_model.predict(X_train_scaled)\n",
    "test_predictions = tuned_lr_model.predict(X_test_scaled)\n",
    "\n",
    "# Print the training and test errors\n",
    "train_error = 1 - accuracy_score(y_train, train_predictions)\n",
    "test_error = 1 - accuracy_score(y_test, test_predictions)\n",
    "\n",
    "print(f'Training Error: {train_error:.4f}')\n",
    "print(f'Test Error: {test_error:.4f}')"
   ]
  },
  {
   "cell_type": "markdown",
   "metadata": {},
   "source": [
    "## Naïve Bayes Model"
   ]
  },
  {
   "cell_type": "code",
   "execution_count": null,
   "metadata": {},
   "outputs": [],
   "source": [
    "param_grid_nb = {\n",
    "    'var_smoothing': np.logspace(0,-9, num=100)\n",
    "}\n",
    "nb_model_grid = GridSearchCV(estimator=GaussianNB(), param_grid=param_grid_nb, cv=5, scoring='accuracy', verbose=1, n_jobs=-1)"
   ]
  },
  {
   "cell_type": "code",
   "execution_count": null,
   "metadata": {},
   "outputs": [],
   "source": [
    "nb_model_grid.fit(X_train, y_train)"
   ]
  },
  {
   "cell_type": "code",
   "execution_count": null,
   "metadata": {},
   "outputs": [],
   "source": [
    "print(f'Best Score: {nb_model_grid.best_score_}')\n",
    "print(f'Best Parameters: {nb_model_grid.best_params_}')\n",
    "print(f'Best Estimator: {nb_model_grid.best_estimator_}')"
   ]
  },
  {
   "cell_type": "code",
   "execution_count": null,
   "metadata": {},
   "outputs": [],
   "source": [
    "nb_model = nb_model_grid.best_estimator_"
   ]
  },
  {
   "cell_type": "code",
   "execution_count": null,
   "metadata": {},
   "outputs": [],
   "source": [
    "# Make predictions\n",
    "train_predictions = nb_model.predict(X_train)\n",
    "test_predictions = nb_model.predict(X_test)\n",
    "\n",
    "# Calculate errors\n",
    "train_error = 1 - accuracy_score(y_train, train_predictions)\n",
    "test_error = 1 - accuracy_score(y_test, test_predictions)\n",
    "\n",
    "# Print errors\n",
    "print(f\"Training Error: {train_error * 100:.2f}%\")\n",
    "print(f\"Test Error: {test_error * 100:.2f}%\")"
   ]
  },
  {
   "cell_type": "code",
   "execution_count": null,
   "metadata": {},
   "outputs": [],
   "source": [
    "y_test_pred = nb_model.predict(X_test)"
   ]
  },
  {
   "cell_type": "code",
   "execution_count": null,
   "metadata": {},
   "outputs": [],
   "source": [
    "# Evaluate the model on the test set\n",
    "accuracy_test = accuracy_score(y_test, y_test_pred)\n",
    "precision_test = precision_score(y_test, y_test_pred, average='weighted')\n",
    "recall_test = recall_score(y_test, y_test_pred, average='weighted')\n",
    "f1_test = f1_score(y_test, y_test_pred, average='weighted')\n",
    "\n",
    "# Print or log the evaluation metrics for the test set\n",
    "print(f'Test Accuracy: {accuracy_test:.4f}')\n",
    "print(f'Test Precision: {precision_test:.4f}')\n",
    "print(f'Test Recall: {recall_test:.4f}')\n",
    "print(f'Test F1 Score: {f1_test:.4f}')"
   ]
  },
  {
   "cell_type": "markdown",
   "metadata": {},
   "source": [
    "## Random Forest Model"
   ]
  },
  {
   "cell_type": "markdown",
   "metadata": {},
   "source": [
    "The method we will be using for hyperparameter tuning is the `Random Search` method. This method is a technique where random combinations of the hyperparameters are used to find the best solution for the built model. This method is similar to a grid search but is more efficient as it does not exhaustively search through all possible combinations."
   ]
  },
  {
   "cell_type": "markdown",
   "metadata": {},
   "source": [
    "### Hyperparameter Searching"
   ]
  },
  {
   "cell_type": "code",
   "execution_count": 28,
   "metadata": {},
   "outputs": [],
   "source": [
    "param_grid = {\n",
    "    'n_estimators': [100, 200, 300, 400, 500],\n",
    "    'max_depth': [5, 10, 15, 20, 25, 30],\n",
    "    'max_features': ['sqrt', 'log2'],\n",
    "    'max_leaf_nodes': [None, 5, 10, 15, 20, 25, 30],\n",
    "    'max_samples': [None, 0.5, 0.75, 1.0],\n",
    "    'min_samples_split': [2, 5, 10, 15, 20],\n",
    "    'bootstrap': [True]\n",
    "}\n",
    "\n",
    "random_search = RandomizedSearchCV(\n",
    "    estimator=RandomForestClassifier(random_state=SEED),\n",
    "    param_distributions=param_grid,\n",
    "    n_iter=50,\n",
    "    scoring='accuracy',\n",
    "    n_jobs=-1,\n",
    "    cv=5,\n",
    "    verbose=1,\n",
    "    random_state=SEED\n",
    ")"
   ]
  },
  {
   "cell_type": "code",
   "execution_count": null,
   "metadata": {},
   "outputs": [],
   "source": [
    "random_search.fit(X_train_scaled, y_train)"
   ]
  },
  {
   "cell_type": "code",
   "execution_count": 29,
   "metadata": {},
   "outputs": [
    {
     "ename": "AttributeError",
     "evalue": "'RandomizedSearchCV' object has no attribute 'best_estimator_'",
     "output_type": "error",
     "traceback": [
      "\u001b[1;31m---------------------------------------------------------------------------\u001b[0m",
      "\u001b[1;31mAttributeError\u001b[0m                            Traceback (most recent call last)",
      "\u001b[1;32mc:\\Users\\Clyla\\Documents\\GitHub\\House-Prices-Analysis\\STINTSY-Project-S11-Group4.ipynb Cell 189\u001b[0m line \u001b[0;36m1\n\u001b[1;32m----> <a href='vscode-notebook-cell:/c%3A/Users/Clyla/Documents/GitHub/House-Prices-Analysis/STINTSY-Project-S11-Group4.ipynb#Z1051sZmlsZQ%3D%3D?line=0'>1</a>\u001b[0m best_model \u001b[39m=\u001b[39m random_search\u001b[39m.\u001b[39;49mbest_estimator_\n\u001b[0;32m      <a href='vscode-notebook-cell:/c%3A/Users/Clyla/Documents/GitHub/House-Prices-Analysis/STINTSY-Project-S11-Group4.ipynb#Z1051sZmlsZQ%3D%3D?line=2'>3</a>\u001b[0m \u001b[39m# Print the best hyperparameters\u001b[39;00m\n\u001b[0;32m      <a href='vscode-notebook-cell:/c%3A/Users/Clyla/Documents/GitHub/House-Prices-Analysis/STINTSY-Project-S11-Group4.ipynb#Z1051sZmlsZQ%3D%3D?line=3'>4</a>\u001b[0m \u001b[39mprint\u001b[39m(\u001b[39mf\u001b[39m\u001b[39m'\u001b[39m\u001b[39mBest n_estimators: \u001b[39m\u001b[39m{\u001b[39;00mbest_model\u001b[39m.\u001b[39mget_params()[\u001b[39m\"\u001b[39m\u001b[39mn_estimators\u001b[39m\u001b[39m\"\u001b[39m]\u001b[39m}\u001b[39;00m\u001b[39m'\u001b[39m)\n",
      "\u001b[1;31mAttributeError\u001b[0m: 'RandomizedSearchCV' object has no attribute 'best_estimator_'"
     ]
    }
   ],
   "source": [
    "best_model = random_search.best_estimator_\n",
    "\n",
    "# Print the best hyperparameters\n",
    "print(f'Best n_estimators: {best_model.get_params()[\"n_estimators\"]}')\n",
    "print(f'Best max_depth: {best_model.get_params()[\"max_depth\"]}')\n",
    "print(f'Best max_features: {best_model.get_params()[\"max_features\"]}')\n",
    "print(f'Best max_leaf_nodes: {best_model.get_params()[\"max_leaf_nodes\"]}')\n",
    "print(f'Best max_samples: {best_model.get_params()[\"max_samples\"]}')\n",
    "print(f'Best min_samples_split: {best_model.get_params()[\"min_samples_split\"]}')\n",
    "print(f'Best bootstrap: {best_model.get_params()[\"bootstrap\"]}')"
   ]
  },
  {
   "cell_type": "markdown",
   "metadata": {},
   "source": [
    "**Sanity Check:** You should get:\n",
    "\n",
    "```\n",
    "Best n_estimators: 500\n",
    "Best max_depth: 30\n",
    "Best max_features: sqrt\n",
    "Best max_leaf_nodes: None\n",
    "Best max_samples: 1.0\n",
    "Best min_samples_split: 20\n",
    "Best bootstrap: True\n",
    "```"
   ]
  },
  {
   "cell_type": "markdown",
   "metadata": {},
   "source": [
    "If we compare our hyperparameter before and after tuning, provided is the table.\n",
    "| Parameters        \t| Before \t| After \t|\n",
    "|-------------------\t|--------\t|-------\t|\n",
    "| n_estimator       \t| 100    \t| 300   \t|\n",
    "| max_depth         \t| 10     \t| 10    \t|\n",
    "| max_features      \t| sqrt   \t| sqrt  \t|\n",
    "| max_leaf_nodes    \t| None   \t| 20    \t|\n",
    "| max_samples       \t| None   \t| 0.5   \t|\n",
    "| min_samples_split \t| 2      \t| 5     \t|\n",
    "| Bootstrap         \t| True   \t| True  \t|"
   ]
  },
  {
   "cell_type": "markdown",
   "metadata": {},
   "source": [
    "With our new hyperparameters, let's try running the model again."
   ]
  },
  {
   "cell_type": "markdown",
   "metadata": {},
   "source": [
    "### Model Training (Hyperparameter Tuned)"
   ]
  },
  {
   "cell_type": "code",
   "execution_count": 30,
   "metadata": {},
   "outputs": [
    {
     "data": {
      "text/html": [
       "<style>#sk-container-id-2 {color: black;background-color: white;}#sk-container-id-2 pre{padding: 0;}#sk-container-id-2 div.sk-toggleable {background-color: white;}#sk-container-id-2 label.sk-toggleable__label {cursor: pointer;display: block;width: 100%;margin-bottom: 0;padding: 0.3em;box-sizing: border-box;text-align: center;}#sk-container-id-2 label.sk-toggleable__label-arrow:before {content: \"▸\";float: left;margin-right: 0.25em;color: #696969;}#sk-container-id-2 label.sk-toggleable__label-arrow:hover:before {color: black;}#sk-container-id-2 div.sk-estimator:hover label.sk-toggleable__label-arrow:before {color: black;}#sk-container-id-2 div.sk-toggleable__content {max-height: 0;max-width: 0;overflow: hidden;text-align: left;background-color: #f0f8ff;}#sk-container-id-2 div.sk-toggleable__content pre {margin: 0.2em;color: black;border-radius: 0.25em;background-color: #f0f8ff;}#sk-container-id-2 input.sk-toggleable__control:checked~div.sk-toggleable__content {max-height: 200px;max-width: 100%;overflow: auto;}#sk-container-id-2 input.sk-toggleable__control:checked~label.sk-toggleable__label-arrow:before {content: \"▾\";}#sk-container-id-2 div.sk-estimator input.sk-toggleable__control:checked~label.sk-toggleable__label {background-color: #d4ebff;}#sk-container-id-2 div.sk-label input.sk-toggleable__control:checked~label.sk-toggleable__label {background-color: #d4ebff;}#sk-container-id-2 input.sk-hidden--visually {border: 0;clip: rect(1px 1px 1px 1px);clip: rect(1px, 1px, 1px, 1px);height: 1px;margin: -1px;overflow: hidden;padding: 0;position: absolute;width: 1px;}#sk-container-id-2 div.sk-estimator {font-family: monospace;background-color: #f0f8ff;border: 1px dotted black;border-radius: 0.25em;box-sizing: border-box;margin-bottom: 0.5em;}#sk-container-id-2 div.sk-estimator:hover {background-color: #d4ebff;}#sk-container-id-2 div.sk-parallel-item::after {content: \"\";width: 100%;border-bottom: 1px solid gray;flex-grow: 1;}#sk-container-id-2 div.sk-label:hover label.sk-toggleable__label {background-color: #d4ebff;}#sk-container-id-2 div.sk-serial::before {content: \"\";position: absolute;border-left: 1px solid gray;box-sizing: border-box;top: 0;bottom: 0;left: 50%;z-index: 0;}#sk-container-id-2 div.sk-serial {display: flex;flex-direction: column;align-items: center;background-color: white;padding-right: 0.2em;padding-left: 0.2em;position: relative;}#sk-container-id-2 div.sk-item {position: relative;z-index: 1;}#sk-container-id-2 div.sk-parallel {display: flex;align-items: stretch;justify-content: center;background-color: white;position: relative;}#sk-container-id-2 div.sk-item::before, #sk-container-id-2 div.sk-parallel-item::before {content: \"\";position: absolute;border-left: 1px solid gray;box-sizing: border-box;top: 0;bottom: 0;left: 50%;z-index: -1;}#sk-container-id-2 div.sk-parallel-item {display: flex;flex-direction: column;z-index: 1;position: relative;background-color: white;}#sk-container-id-2 div.sk-parallel-item:first-child::after {align-self: flex-end;width: 50%;}#sk-container-id-2 div.sk-parallel-item:last-child::after {align-self: flex-start;width: 50%;}#sk-container-id-2 div.sk-parallel-item:only-child::after {width: 0;}#sk-container-id-2 div.sk-dashed-wrapped {border: 1px dashed gray;margin: 0 0.4em 0.5em 0.4em;box-sizing: border-box;padding-bottom: 0.4em;background-color: white;}#sk-container-id-2 div.sk-label label {font-family: monospace;font-weight: bold;display: inline-block;line-height: 1.2em;}#sk-container-id-2 div.sk-label-container {text-align: center;}#sk-container-id-2 div.sk-container {/* jupyter's `normalize.less` sets `[hidden] { display: none; }` but bootstrap.min.css set `[hidden] { display: none !important; }` so we also need the `!important` here to be able to override the default hidden behavior on the sphinx rendered scikit-learn.org. See: https://github.com/scikit-learn/scikit-learn/issues/21755 */display: inline-block !important;position: relative;}#sk-container-id-2 div.sk-text-repr-fallback {display: none;}</style><div id=\"sk-container-id-2\" class=\"sk-top-container\"><div class=\"sk-text-repr-fallback\"><pre>RandomForestClassifier(max_depth=30, max_samples=1.0, min_samples_split=20,\n",
       "                       n_estimators=500, random_state=42)</pre><b>In a Jupyter environment, please rerun this cell to show the HTML representation or trust the notebook. <br />On GitHub, the HTML representation is unable to render, please try loading this page with nbviewer.org.</b></div><div class=\"sk-container\" hidden><div class=\"sk-item\"><div class=\"sk-estimator sk-toggleable\"><input class=\"sk-toggleable__control sk-hidden--visually\" id=\"sk-estimator-id-2\" type=\"checkbox\" checked><label for=\"sk-estimator-id-2\" class=\"sk-toggleable__label sk-toggleable__label-arrow\">RandomForestClassifier</label><div class=\"sk-toggleable__content\"><pre>RandomForestClassifier(max_depth=30, max_samples=1.0, min_samples_split=20,\n",
       "                       n_estimators=500, random_state=42)</pre></div></div></div></div></div>"
      ],
      "text/plain": [
       "RandomForestClassifier(max_depth=30, max_samples=1.0, min_samples_split=20,\n",
       "                       n_estimators=500, random_state=42)"
      ]
     },
     "execution_count": 30,
     "metadata": {},
     "output_type": "execute_result"
    }
   ],
   "source": [
    "tuned_rf_model = RandomForestClassifier(\n",
    "    n_estimators=500,\n",
    "    max_depth=30,\n",
    "    max_features='sqrt',\n",
    "    max_leaf_nodes=None,\n",
    "    max_samples=1.0,\n",
    "    min_samples_split=20,\n",
    "    bootstrap=True,\n",
    "    random_state=SEED\n",
    ")\n",
    "\n",
    "tuned_rf_model.fit(X_train_scaled, y_train)"
   ]
  },
  {
   "cell_type": "code",
   "execution_count": 31,
   "metadata": {},
   "outputs": [
    {
     "name": "stdout",
     "output_type": "stream",
     "text": [
      "Training Error: 0.1176\n",
      "Test Error: 0.2868\n"
     ]
    }
   ],
   "source": [
    "train_predictions = tuned_rf_model.predict(X_train_scaled)\n",
    "test_predictions = tuned_rf_model.predict(X_test_scaled)\n",
    "\n",
    "# Print the training and test errors\n",
    "train_error = 1 - accuracy_score(y_train, train_predictions)\n",
    "test_error = 1 - accuracy_score(y_test, test_predictions)\n",
    "\n",
    "print(f'Training Error: {train_error:.4f}')\n",
    "print(f'Test Error: {test_error:.4f}')"
   ]
  },
  {
   "cell_type": "code",
   "execution_count": 32,
   "metadata": {},
   "outputs": [
    {
     "name": "stdout",
     "output_type": "stream",
     "text": [
      "Test Accuracy: 0.7132\n",
      "Test Precision: 0.6818\n",
      "Test Recall: 0.7132\n",
      "Test F1 Score: 0.6794\n"
     ]
    },
    {
     "name": "stderr",
     "output_type": "stream",
     "text": [
      "C:\\Users\\Clyla\\AppData\\Roaming\\Python\\Python310\\site-packages\\sklearn\\metrics\\_classification.py:1327: UndefinedMetricWarning: Precision is ill-defined and being set to 0.0 in labels with no predicted samples. Use `zero_division` parameter to control this behavior.\n",
      "  _warn_prf(average, modifier, msg_start, len(result))\n"
     ]
    }
   ],
   "source": [
    "# Evaluate the model on the test set\n",
    "y_test_pred = tuned_rf_model.predict(X_test_scaled)\n",
    "\n",
    "accuracy_test = accuracy_score(y_test, y_test_pred)\n",
    "precision_test = precision_score(y_test, y_test_pred, average='weighted')\n",
    "recall_test = recall_score(y_test, y_test_pred, average='weighted')\n",
    "f1_test = f1_score(y_test, y_test_pred, average='weighted')\n",
    "\n",
    "# Print or log the evaluation metrics for the test set\n",
    "print(f'Test Accuracy: {accuracy_test:.4f}')\n",
    "print(f'Test Precision: {precision_test:.4f}')\n",
    "print(f'Test Recall: {recall_test:.4f}')\n",
    "print(f'Test F1 Score: {f1_test:.4f}')"
   ]
  },
  {
   "cell_type": "code",
   "execution_count": 33,
   "metadata": {},
   "outputs": [
    {
     "name": "stdout",
     "output_type": "stream",
     "text": [
      "[[   0    0    5    1    0]\n",
      " [   0    0   24    9    0]\n",
      " [   0    0 2515  264    4]\n",
      " [   0    0  593  520   16]\n",
      " [   0    0  119  195   23]]\n",
      "              precision    recall  f1-score   support\n",
      "\n",
      "           1       0.00      0.00      0.00         6\n",
      "           2       0.00      0.00      0.00        33\n",
      "           3       0.77      0.90      0.83      2783\n",
      "           4       0.53      0.46      0.49      1129\n",
      "           5       0.53      0.07      0.12       337\n",
      "\n",
      "    accuracy                           0.71      4288\n",
      "   macro avg       0.37      0.29      0.29      4288\n",
      "weighted avg       0.68      0.71      0.68      4288\n",
      "\n"
     ]
    },
    {
     "name": "stderr",
     "output_type": "stream",
     "text": [
      "C:\\Users\\Clyla\\AppData\\Roaming\\Python\\Python310\\site-packages\\sklearn\\metrics\\_classification.py:1327: UndefinedMetricWarning: Precision and F-score are ill-defined and being set to 0.0 in labels with no predicted samples. Use `zero_division` parameter to control this behavior.\n",
      "  _warn_prf(average, modifier, msg_start, len(result))\n",
      "C:\\Users\\Clyla\\AppData\\Roaming\\Python\\Python310\\site-packages\\sklearn\\metrics\\_classification.py:1327: UndefinedMetricWarning: Precision and F-score are ill-defined and being set to 0.0 in labels with no predicted samples. Use `zero_division` parameter to control this behavior.\n",
      "  _warn_prf(average, modifier, msg_start, len(result))\n",
      "C:\\Users\\Clyla\\AppData\\Roaming\\Python\\Python310\\site-packages\\sklearn\\metrics\\_classification.py:1327: UndefinedMetricWarning: Precision and F-score are ill-defined and being set to 0.0 in labels with no predicted samples. Use `zero_division` parameter to control this behavior.\n",
      "  _warn_prf(average, modifier, msg_start, len(result))\n"
     ]
    }
   ],
   "source": [
    "# Print the confusion matrix and classification report\n",
    "print(confusion_matrix(y_test, y_test_pred))\n",
    "print(classification_report(y_test, y_test_pred))"
   ]
  },
  {
   "cell_type": "markdown",
   "metadata": {},
   "source": [
    "#### Findings"
   ]
  },
  {
   "cell_type": "markdown",
   "metadata": {},
   "source": [
    "Following hyperparameter tuning, notable improvements were observed in the model's performance. Our model reached an `F1-score` of 0.6794 and the test error is at 0.2868. The training error reduced to 0.1176, and the test error decreased to 0.2868. \n",
    "\n",
    "The other test metrics also reflected enhanced accuracy (0.7132), precision (0.6818), recall (0.7132). This is a small improvement from the model, however, we must take into consideration that this dataset is imbalanced. Condition 3 is very common, while conditions 1 and 2 are scarce. This may be a factor in the model's performance. This may also be why 1 and 2 are never predicted correctly. This may be due to the fact that the model is not trained enough to predict the rare conditions.\n",
    "\n",
    "Although the tuning process contributed to a more balanced model, the impact of dataset imbalance on predicting infrequent outcomes remained evident. Further refinement or additional data collection for conditions 1 and 2 may enhance the model's overall predictive capabilities."
   ]
  },
  {
   "cell_type": "markdown",
   "metadata": {},
   "source": [
    "# Section 8. Model Selection"
   ]
  },
  {
   "cell_type": "markdown",
   "metadata": {},
   "source": [
    "## Model Comparison"
   ]
  },
  {
   "cell_type": "code",
   "execution_count": null,
   "metadata": {},
   "outputs": [],
   "source": [
    "# Dataframe containing the accuracy, precision, recall, and f1 score of each model\n",
    "model_eval_df = pd.DataFrame(columns=['Model', 'Accuracy', 'Precision', 'Recall', 'F1 Score'])\n",
    "\n",
    "# Add the Logistic Regression model to the dataframe\n",
    "model_eval_df = model_eval_df.append({\n",
    "    'Model': 'Logistic Regression',\n",
    "    'Accuracy': 0.11,\n",
    "    'Precision': 0.11,\n",
    "    'Recall': 0.11,\n",
    "    'F1 Score': 0.11\n",
    "}, ignore_index=True)\n",
    "\n",
    "# Add the Naive Bayes model to the dataframe\n",
    "model_eval_df = model_eval_df.append({\n",
    "    'Model': 'Naive Bayes',\n",
    "    'Accuracy': 0.9998,\n",
    "    'Precision': 0.9998,\n",
    "    'Recall': 0.9998,\n",
    "    'F1 Score': 0.9998\n",
    "}, ignore_index=True)\n",
    "\n",
    "# Add the Random Forest model to the dataframe\n",
    "model_eval_df = model_eval_df.append({\n",
    "    'Model': 'Random Forest',\n",
    "    'Accuracy': 0.7132,\n",
    "    'Precision': 0.6818,\n",
    "    'Recall': 0.7132,\n",
    "    'F1 Score': 0.6794\n",
    "}, ignore_index=True)"
   ]
  },
  {
   "cell_type": "markdown",
   "metadata": {},
   "source": [
    "| Model     \t| Logistic Regression \t| Naive Bayes \t| Random Forest \t|\n",
    "|-----------\t|---------------------\t|-------------\t|---------------\t|\n",
    "| Accuracy  \t|                     \t|             \t| 0.7132        \t|\n",
    "| Precision \t|                     \t|             \t| 0.6818        \t|\n",
    "| Recall    \t|                     \t|             \t| 0.7132        \t|\n",
    "| F1 Score  \t|                     \t|             \t| 0.6794        \t|"
   ]
  },
  {
   "cell_type": "markdown",
   "metadata": {},
   "source": [
    "### Hyperparameters"
   ]
  },
  {
   "cell_type": "markdown",
   "metadata": {},
   "source": [
    "#### Logistic Regression"
   ]
  },
  {
   "cell_type": "markdown",
   "metadata": {},
   "source": [
    "#### Naive Bayes"
   ]
  },
  {
   "cell_type": "markdown",
   "metadata": {},
   "source": [
    "#### Random Forest"
   ]
  },
  {
   "cell_type": "markdown",
   "metadata": {},
   "source": [
    "After using a `RandomSearchCV` to find the best hyperparameters for the model, we found the following hyperparameters to be the best for the model.\n",
    "\n",
    "`n_estimators`=300\n",
    "\n",
    "`max_depth`=10\n",
    "\n",
    "`max_features`='sqrt'\n",
    "\n",
    "`max_leaf_nodes`=20\n",
    "\n",
    "`max_samples`=0.5\n",
    "\n",
    "`min_samples_split`=5\n",
    "\n",
    "`bootstrap`=True\n",
    "\n",
    "`random_state`=SEED"
   ]
  },
  {
   "cell_type": "markdown",
   "metadata": {},
   "source": [
    "### Visualizations"
   ]
  },
  {
   "cell_type": "markdown",
   "metadata": {},
   "source": [
    "## Conclusion"
   ]
  },
  {
   "cell_type": "markdown",
   "metadata": {},
   "source": [
    "# Section 9. Insights and Conclusions"
   ]
  },
  {
   "cell_type": "markdown",
   "metadata": {},
   "source": [
    "# Section 10. References"
   ]
  },
  {
   "cell_type": "markdown",
   "metadata": {},
   "source": [
    "King County Information\n",
    "https://geodacenter.github.io/data-and-lab/KingCounty-HouseSales2015/"
   ]
  }
 ],
 "metadata": {
  "kernelspec": {
   "display_name": "Python 3",
   "language": "python",
   "name": "python3"
  },
  "language_info": {
   "codemirror_mode": {
    "name": "ipython",
    "version": 3
   },
   "file_extension": ".py",
   "mimetype": "text/x-python",
   "name": "python",
   "nbconvert_exporter": "python",
   "pygments_lexer": "ipython3",
   "version": "3.10.0"
  }
 },
 "nbformat": 4,
 "nbformat_minor": 2
}
